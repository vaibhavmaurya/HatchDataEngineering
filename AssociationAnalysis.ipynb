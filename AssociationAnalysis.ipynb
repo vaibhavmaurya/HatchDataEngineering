{
 "cells": [
  {
   "cell_type": "markdown",
   "metadata": {},
   "source": [
    "# Association Analysis"
   ]
  },
  {
   "cell_type": "code",
   "execution_count": 6,
   "metadata": {},
   "outputs": [],
   "source": [
    "import pandas as pd\n",
    "from apyori import apriori\n",
    "import sqlite3\n",
    "from mlxtend.frequent_patterns import apriori, association_rules "
   ]
  },
  {
   "cell_type": "code",
   "execution_count": null,
   "metadata": {},
   "outputs": [],
   "source": []
  },
  {
   "cell_type": "markdown",
   "metadata": {},
   "source": [
    "## Connect with sqlite3 db"
   ]
  },
  {
   "cell_type": "code",
   "execution_count": 7,
   "metadata": {},
   "outputs": [],
   "source": [
    "conn = sqlite3.connect('hatch.db')"
   ]
  },
  {
   "cell_type": "code",
   "execution_count": 8,
   "metadata": {},
   "outputs": [],
   "source": [
    "df = pd.read_sql_query('select * from hatch_bill_data',con=conn)"
   ]
  },
  {
   "cell_type": "code",
   "execution_count": 9,
   "metadata": {},
   "outputs": [
    {
     "data": {
      "text/html": [
       "<div>\n",
       "<style scoped>\n",
       "    .dataframe tbody tr th:only-of-type {\n",
       "        vertical-align: middle;\n",
       "    }\n",
       "\n",
       "    .dataframe tbody tr th {\n",
       "        vertical-align: top;\n",
       "    }\n",
       "\n",
       "    .dataframe thead th {\n",
       "        text-align: right;\n",
       "    }\n",
       "</style>\n",
       "<table border=\"1\" class=\"dataframe\">\n",
       "  <thead>\n",
       "    <tr style=\"text-align: right;\">\n",
       "      <th></th>\n",
       "      <th>S_No</th>\n",
       "      <th>BillDate_and_Time</th>\n",
       "      <th>BillNo</th>\n",
       "      <th>Tbl_</th>\n",
       "      <th>Pax</th>\n",
       "      <th>KotNo</th>\n",
       "      <th>KOTDate_and_Time</th>\n",
       "      <th>Steward</th>\n",
       "      <th>Classification</th>\n",
       "      <th>MenuGroup</th>\n",
       "      <th>...</th>\n",
       "      <th>Qty</th>\n",
       "      <th>Amount</th>\n",
       "      <th>Discount</th>\n",
       "      <th>CGS_2_5</th>\n",
       "      <th>SGS_2_5</th>\n",
       "      <th>Total</th>\n",
       "      <th>UserID</th>\n",
       "      <th>PayMode</th>\n",
       "      <th>Tips</th>\n",
       "      <th>Restaurant</th>\n",
       "    </tr>\n",
       "  </thead>\n",
       "  <tbody>\n",
       "    <tr>\n",
       "      <th>0</th>\n",
       "      <td>1</td>\n",
       "      <td>2019-04-02T21:37:00</td>\n",
       "      <td>3</td>\n",
       "      <td>3</td>\n",
       "      <td>2</td>\n",
       "      <td>7</td>\n",
       "      <td>2019-04-02T20:31:00</td>\n",
       "      <td>Ganesh</td>\n",
       "      <td>Liquor</td>\n",
       "      <td>Vodka</td>\n",
       "      <td>...</td>\n",
       "      <td>2.0</td>\n",
       "      <td>280.0</td>\n",
       "      <td>0.0</td>\n",
       "      <td>0.000</td>\n",
       "      <td>0.000</td>\n",
       "      <td>280.00</td>\n",
       "      <td>NAGESH</td>\n",
       "      <td>None</td>\n",
       "      <td>None</td>\n",
       "      <td>The Estate</td>\n",
       "    </tr>\n",
       "    <tr>\n",
       "      <th>1</th>\n",
       "      <td>1</td>\n",
       "      <td>2019-04-02T21:37:00</td>\n",
       "      <td>3</td>\n",
       "      <td>3</td>\n",
       "      <td>2</td>\n",
       "      <td>7</td>\n",
       "      <td>2019-04-02T20:31:00</td>\n",
       "      <td>Ganesh</td>\n",
       "      <td>Liquor</td>\n",
       "      <td>Scotch/ Bourbon</td>\n",
       "      <td>...</td>\n",
       "      <td>2.0</td>\n",
       "      <td>310.0</td>\n",
       "      <td>0.0</td>\n",
       "      <td>0.000</td>\n",
       "      <td>0.000</td>\n",
       "      <td>310.00</td>\n",
       "      <td>NAGESH</td>\n",
       "      <td>None</td>\n",
       "      <td>None</td>\n",
       "      <td>The Estate</td>\n",
       "    </tr>\n",
       "    <tr>\n",
       "      <th>2</th>\n",
       "      <td>1</td>\n",
       "      <td>2019-04-02T21:37:00</td>\n",
       "      <td>3</td>\n",
       "      <td>3</td>\n",
       "      <td>2</td>\n",
       "      <td>7</td>\n",
       "      <td>2019-04-02T20:31:00</td>\n",
       "      <td>Ganesh</td>\n",
       "      <td>Others</td>\n",
       "      <td>Soft Beverages</td>\n",
       "      <td>...</td>\n",
       "      <td>1.0</td>\n",
       "      <td>20.0</td>\n",
       "      <td>0.0</td>\n",
       "      <td>0.500</td>\n",
       "      <td>0.500</td>\n",
       "      <td>21.00</td>\n",
       "      <td>NAGESH</td>\n",
       "      <td>None</td>\n",
       "      <td>None</td>\n",
       "      <td>The Estate</td>\n",
       "    </tr>\n",
       "    <tr>\n",
       "      <th>3</th>\n",
       "      <td>1</td>\n",
       "      <td>2019-04-02T21:37:00</td>\n",
       "      <td>3</td>\n",
       "      <td>3</td>\n",
       "      <td>2</td>\n",
       "      <td>7</td>\n",
       "      <td>2019-04-02T20:31:00</td>\n",
       "      <td>Ganesh</td>\n",
       "      <td>Soft Drink</td>\n",
       "      <td>Soft Beverages</td>\n",
       "      <td>...</td>\n",
       "      <td>1.0</td>\n",
       "      <td>50.0</td>\n",
       "      <td>0.0</td>\n",
       "      <td>1.250</td>\n",
       "      <td>1.250</td>\n",
       "      <td>52.50</td>\n",
       "      <td>NAGESH</td>\n",
       "      <td>None</td>\n",
       "      <td>None</td>\n",
       "      <td>The Estate</td>\n",
       "    </tr>\n",
       "    <tr>\n",
       "      <th>4</th>\n",
       "      <td>1</td>\n",
       "      <td>2019-04-02T21:37:00</td>\n",
       "      <td>3</td>\n",
       "      <td>3</td>\n",
       "      <td>2</td>\n",
       "      <td>7</td>\n",
       "      <td>2019-04-02T20:31:00</td>\n",
       "      <td>Ganesh</td>\n",
       "      <td>Food</td>\n",
       "      <td>Vegetarian Starters</td>\n",
       "      <td>...</td>\n",
       "      <td>1.0</td>\n",
       "      <td>175.0</td>\n",
       "      <td>0.0</td>\n",
       "      <td>4.375</td>\n",
       "      <td>4.375</td>\n",
       "      <td>183.76</td>\n",
       "      <td>NAGESH</td>\n",
       "      <td>None</td>\n",
       "      <td>None</td>\n",
       "      <td>The Estate</td>\n",
       "    </tr>\n",
       "  </tbody>\n",
       "</table>\n",
       "<p>5 rows × 23 columns</p>\n",
       "</div>"
      ],
      "text/plain": [
       "   S_No    BillDate_and_Time  BillNo Tbl_  Pax  KotNo     KOTDate_and_Time  \\\n",
       "0     1  2019-04-02T21:37:00       3    3    2      7  2019-04-02T20:31:00   \n",
       "1     1  2019-04-02T21:37:00       3    3    2      7  2019-04-02T20:31:00   \n",
       "2     1  2019-04-02T21:37:00       3    3    2      7  2019-04-02T20:31:00   \n",
       "3     1  2019-04-02T21:37:00       3    3    2      7  2019-04-02T20:31:00   \n",
       "4     1  2019-04-02T21:37:00       3    3    2      7  2019-04-02T20:31:00   \n",
       "\n",
       "  Steward Classification            MenuGroup  ...  Qty Amount  Discount  \\\n",
       "0  Ganesh         Liquor                Vodka  ...  2.0  280.0       0.0   \n",
       "1  Ganesh         Liquor      Scotch/ Bourbon  ...  2.0  310.0       0.0   \n",
       "2  Ganesh         Others       Soft Beverages  ...  1.0   20.0       0.0   \n",
       "3  Ganesh     Soft Drink       Soft Beverages  ...  1.0   50.0       0.0   \n",
       "4  Ganesh           Food  Vegetarian Starters  ...  1.0  175.0       0.0   \n",
       "\n",
       "   CGS_2_5  SGS_2_5   Total  UserID  PayMode  Tips  Restaurant  \n",
       "0    0.000    0.000  280.00  NAGESH     None  None  The Estate  \n",
       "1    0.000    0.000  310.00  NAGESH     None  None  The Estate  \n",
       "2    0.500    0.500   21.00  NAGESH     None  None  The Estate  \n",
       "3    1.250    1.250   52.50  NAGESH     None  None  The Estate  \n",
       "4    4.375    4.375  183.76  NAGESH     None  None  The Estate  \n",
       "\n",
       "[5 rows x 23 columns]"
      ]
     },
     "execution_count": 9,
     "metadata": {},
     "output_type": "execute_result"
    }
   ],
   "source": [
    "df.head()"
   ]
  },
  {
   "cell_type": "code",
   "execution_count": 12,
   "metadata": {},
   "outputs": [],
   "source": [
    "df.ItemName = df.ItemName.str.lower()"
   ]
  },
  {
   "cell_type": "code",
   "execution_count": 14,
   "metadata": {},
   "outputs": [
    {
     "data": {
      "text/plain": [
       "404"
      ]
     },
     "execution_count": 14,
     "metadata": {},
     "output_type": "execute_result"
    }
   ],
   "source": [
    "len(df.ItemName.unique())"
   ]
  },
  {
   "cell_type": "code",
   "execution_count": 7,
   "metadata": {},
   "outputs": [
    {
     "data": {
      "text/plain": [
       "BillDate_and_Time    BillNo\n",
       "2019-04-02T22:43:00  2         [Nati Koli Curry, AKKI ROTTI, KALMI KABAB, Car...\n",
       "2019-04-06T20:10:00  3         [HOT AND SOUR VEG, PERI PERI CHICKEN WINGS 1/2...\n",
       "2019-04-07T20:58:00  4         [MALNAD PULAV - MUTTON, Chicken Kabab, NEER DO...\n",
       "2019-04-10T20:30:00  5         [MANCHOW SOUP VEG, HARYALI PANEER KABAB, Spicy...\n",
       "2019-04-12T19:44:00  6                           [RAGI MUDDE, AVARE KAALU GOJJU]\n",
       "2019-04-13T21:33:00  7         [Mushroom & Coconut Soup, HOT AND SOUR VEG, PE...\n",
       "2019-04-13T22:49:00  8                               [Mutton Nalli, SEEKH KABAB]\n",
       "2019-04-14T12:49:00  9         [KORI ROTI, MANGALORE CHICKEN CURRY, NEER DOSA...\n",
       "2019-04-15T19:27:00  10                                    [MASAPPU, RAGI MUDDE]\n",
       "2019-04-15T22:04:00  11        [Coorgi Pork Fry, KANE FISH CURRY, NEER DOSA, ...\n",
       "2019-04-20T13:14:00  12               [Corn & Cheese Ball, FRIED RICE - CHICKEN]\n",
       "2019-04-23T21:45:00  13        [BANG BANG CHICKEN, PERI PERI CHICKEN WINGS 1 ...\n",
       "2019-04-26T21:10:00  14        [FRENCH CHICKEN, DRUMS OF HEAVEN, Beer Battere...\n",
       "2019-04-27T22:14:00  15                                            [DAL KHICHDI]\n",
       "2019-04-28T19:19:00  17                                     [Corn & Cheese Ball]\n",
       "2019-04-30T22:52:00  18                                 [DAL KHICHDI, Curd Rice]\n",
       "Name: ItemName, dtype: object"
      ]
     },
     "execution_count": 7,
     "metadata": {},
     "output_type": "execute_result"
    }
   ],
   "source": [
    "q['Home Delivery']"
   ]
  },
  {
   "cell_type": "code",
   "execution_count": 8,
   "metadata": {},
   "outputs": [],
   "source": [
    "records = q.to_list()"
   ]
  },
  {
   "cell_type": "code",
   "execution_count": 9,
   "metadata": {},
   "outputs": [
    {
     "data": {
      "text/plain": [
       "1776"
      ]
     },
     "execution_count": 9,
     "metadata": {},
     "output_type": "execute_result"
    }
   ],
   "source": [
    "len(records)"
   ]
  },
  {
   "cell_type": "code",
   "execution_count": null,
   "metadata": {},
   "outputs": [],
   "source": []
  },
  {
   "cell_type": "code",
   "execution_count": 23,
   "metadata": {},
   "outputs": [],
   "source": [
    "association_rules = apriori(records, min_support=0.006, min_confidence=0.5, min_lift=0, max_length=4)"
   ]
  },
  {
   "cell_type": "code",
   "execution_count": 24,
   "metadata": {},
   "outputs": [
    {
     "data": {
      "text/plain": [
       "<generator object apriori at 0x11132ef68>"
      ]
     },
     "execution_count": 24,
     "metadata": {},
     "output_type": "execute_result"
    }
   ],
   "source": [
    "association_rules"
   ]
  },
  {
   "cell_type": "code",
   "execution_count": 25,
   "metadata": {},
   "outputs": [],
   "source": [
    "rules = list(association_rules)"
   ]
  },
  {
   "cell_type": "code",
   "execution_count": 29,
   "metadata": {},
   "outputs": [],
   "source": [
    "g = rules[0]"
   ]
  },
  {
   "cell_type": "code",
   "execution_count": 31,
   "metadata": {},
   "outputs": [],
   "source": [
    "m = g.items"
   ]
  },
  {
   "cell_type": "code",
   "execution_count": 36,
   "metadata": {},
   "outputs": [
    {
     "data": {
      "text/plain": [
       "['100 Pipers', 'BOTTLED WATER']"
      ]
     },
     "execution_count": 36,
     "metadata": {},
     "output_type": "execute_result"
    }
   ],
   "source": [
    "list(m)"
   ]
  },
  {
   "cell_type": "code",
   "execution_count": 35,
   "metadata": {},
   "outputs": [
    {
     "ename": "TypeError",
     "evalue": "'set' object does not support indexing",
     "output_type": "error",
     "traceback": [
      "\u001b[0;31m---------------------------------------------------------------------------\u001b[0m",
      "\u001b[0;31mTypeError\u001b[0m                                 Traceback (most recent call last)",
      "\u001b[0;32m<ipython-input-35-3f9de2f905c3>\u001b[0m in \u001b[0;36m<module>\u001b[0;34m\u001b[0m\n\u001b[0;32m----> 1\u001b[0;31m \u001b[0;34m{\u001b[0m\u001b[0;36m1\u001b[0m\u001b[0;34m,\u001b[0m\u001b[0;36m2\u001b[0m\u001b[0;34m,\u001b[0m\u001b[0;36m3\u001b[0m\u001b[0;34m}\u001b[0m\u001b[0;34m[\u001b[0m\u001b[0;36m0\u001b[0m\u001b[0;34m]\u001b[0m\u001b[0;34m\u001b[0m\u001b[0m\n\u001b[0m",
      "\u001b[0;31mTypeError\u001b[0m: 'set' object does not support indexing"
     ]
    }
   ],
   "source": [
    "{1,2,3}[0]"
   ]
  },
  {
   "cell_type": "code",
   "execution_count": 21,
   "metadata": {},
   "outputs": [],
   "source": [
    "df_the_estate = df[df.Restaurant == 'The Estate'].groupby(['BillDate_and_Time', 'ItemName'])['Qty'].sum().unstack().reset_index().fillna(0).set_index('BillDate_and_Time')\n",
    "    \n",
    "    "
   ]
  },
  {
   "cell_type": "code",
   "execution_count": 22,
   "metadata": {},
   "outputs": [],
   "source": [
    "def hot_encode(x): \n",
    "    if(x<= 0): \n",
    "        return 0\n",
    "    if(x>= 1): \n",
    "        return 1"
   ]
  },
  {
   "cell_type": "code",
   "execution_count": 35,
   "metadata": {},
   "outputs": [],
   "source": [
    "df_the_estate = df_the_estate.applymap(hot_encode)"
   ]
  },
  {
   "cell_type": "code",
   "execution_count": 36,
   "metadata": {},
   "outputs": [
    {
     "data": {
      "text/plain": [
       "ItemName\n",
       "akki rotti              1\n",
       "almond cake             1\n",
       "aloo mutter tikki       1\n",
       "avare kaalu gojju       1\n",
       "black & white           1\n",
       "bottled water           1\n",
       "chilli cheese toast     1\n",
       "half rice               1\n",
       "haryali paneer kabab    1\n",
       "neer dosa               1\n",
       "smirnoff orange         1\n",
       "sprite                  1\n",
       "Name: 2019-04-02T21:37:00, dtype: int64"
      ]
     },
     "execution_count": 36,
     "metadata": {},
     "output_type": "execute_result"
    }
   ],
   "source": [
    "c = df_the_estate.loc['2019-04-02T21:37:00']\n",
    "c[c > 0]"
   ]
  },
  {
   "cell_type": "code",
   "execution_count": 37,
   "metadata": {},
   "outputs": [
    {
     "data": {
      "text/plain": [
       "0          smirnoff orange\n",
       "1            black & white\n",
       "2            bottled water\n",
       "3                   sprite\n",
       "4      chilli cheese toast\n",
       "5     haryali paneer kabab\n",
       "6        aloo mutter tikki\n",
       "7            black & white\n",
       "8                neer dosa\n",
       "9               akki rotti\n",
       "10       avare kaalu gojju\n",
       "11               half rice\n",
       "12             almond cake\n",
       "Name: ItemName, dtype: object"
      ]
     },
     "execution_count": 37,
     "metadata": {},
     "output_type": "execute_result"
    }
   ],
   "source": [
    "df.query(\"BillDate_and_Time == '2019-04-02T21:37:00' and Restaurant == 'The Estate'\")['ItemName']"
   ]
  },
  {
   "cell_type": "code",
   "execution_count": 43,
   "metadata": {},
   "outputs": [
    {
     "data": {
      "text/plain": [
       "221"
      ]
     },
     "execution_count": 43,
     "metadata": {},
     "output_type": "execute_result"
    }
   ],
   "source": [
    "len(df_the_estate)"
   ]
  },
  {
   "cell_type": "code",
   "execution_count": null,
   "metadata": {},
   "outputs": [],
   "source": []
  },
  {
   "cell_type": "code",
   "execution_count": null,
   "metadata": {},
   "outputs": [],
   "source": []
  },
  {
   "cell_type": "code",
   "execution_count": 61,
   "metadata": {},
   "outputs": [],
   "source": [
    "frq_items = apriori(df_the_estate, min_support = 0.05, use_colnames = True)"
   ]
  },
  {
   "cell_type": "code",
   "execution_count": 62,
   "metadata": {},
   "outputs": [
    {
     "data": {
      "text/html": [
       "<div>\n",
       "<style scoped>\n",
       "    .dataframe tbody tr th:only-of-type {\n",
       "        vertical-align: middle;\n",
       "    }\n",
       "\n",
       "    .dataframe tbody tr th {\n",
       "        vertical-align: top;\n",
       "    }\n",
       "\n",
       "    .dataframe thead th {\n",
       "        text-align: right;\n",
       "    }\n",
       "</style>\n",
       "<table border=\"1\" class=\"dataframe\">\n",
       "  <thead>\n",
       "    <tr style=\"text-align: right;\">\n",
       "      <th></th>\n",
       "      <th>support</th>\n",
       "      <th>itemsets</th>\n",
       "    </tr>\n",
       "  </thead>\n",
       "  <tbody>\n",
       "    <tr>\n",
       "      <th>0</th>\n",
       "      <td>0.054299</td>\n",
       "      <td>(100 pipers)</td>\n",
       "    </tr>\n",
       "    <tr>\n",
       "      <th>1</th>\n",
       "      <td>0.271493</td>\n",
       "      <td>(akki rotti)</td>\n",
       "    </tr>\n",
       "    <tr>\n",
       "      <th>2</th>\n",
       "      <td>0.140271</td>\n",
       "      <td>(avare kaalu gojju)</td>\n",
       "    </tr>\n",
       "    <tr>\n",
       "      <th>3</th>\n",
       "      <td>0.108597</td>\n",
       "      <td>(black &amp; white)</td>\n",
       "    </tr>\n",
       "    <tr>\n",
       "      <th>4</th>\n",
       "      <td>0.533937</td>\n",
       "      <td>(bottled water)</td>\n",
       "    </tr>\n",
       "    <tr>\n",
       "      <th>5</th>\n",
       "      <td>0.076923</td>\n",
       "      <td>(budweiser)</td>\n",
       "    </tr>\n",
       "    <tr>\n",
       "      <th>6</th>\n",
       "      <td>0.058824</td>\n",
       "      <td>(caesar salad)</td>\n",
       "    </tr>\n",
       "    <tr>\n",
       "      <th>7</th>\n",
       "      <td>0.095023</td>\n",
       "      <td>(chicken biryani)</td>\n",
       "    </tr>\n",
       "    <tr>\n",
       "      <th>8</th>\n",
       "      <td>0.072398</td>\n",
       "      <td>(chicken ghee roast)</td>\n",
       "    </tr>\n",
       "    <tr>\n",
       "      <th>9</th>\n",
       "      <td>0.099548</td>\n",
       "      <td>(cigarettes - 10 nos)</td>\n",
       "    </tr>\n",
       "    <tr>\n",
       "      <th>10</th>\n",
       "      <td>0.095023</td>\n",
       "      <td>(crispy corn - karnataka style)</td>\n",
       "    </tr>\n",
       "    <tr>\n",
       "      <th>11</th>\n",
       "      <td>0.054299</td>\n",
       "      <td>(drums of heaven)</td>\n",
       "    </tr>\n",
       "    <tr>\n",
       "      <th>12</th>\n",
       "      <td>0.054299</td>\n",
       "      <td>(french fries plain)</td>\n",
       "    </tr>\n",
       "    <tr>\n",
       "      <th>13</th>\n",
       "      <td>0.180995</td>\n",
       "      <td>(fresh lime soda)</td>\n",
       "    </tr>\n",
       "    <tr>\n",
       "      <th>14</th>\n",
       "      <td>0.058824</td>\n",
       "      <td>(fruit punch)</td>\n",
       "    </tr>\n",
       "    <tr>\n",
       "      <th>15</th>\n",
       "      <td>0.076923</td>\n",
       "      <td>(garlic pepper murg)</td>\n",
       "    </tr>\n",
       "    <tr>\n",
       "      <th>16</th>\n",
       "      <td>0.090498</td>\n",
       "      <td>(green salad sticks)</td>\n",
       "    </tr>\n",
       "    <tr>\n",
       "      <th>17</th>\n",
       "      <td>0.063348</td>\n",
       "      <td>(kingfisher ultra 650ml)</td>\n",
       "    </tr>\n",
       "    <tr>\n",
       "      <th>18</th>\n",
       "      <td>0.104072</td>\n",
       "      <td>(mixed bean usli)</td>\n",
       "    </tr>\n",
       "    <tr>\n",
       "      <th>19</th>\n",
       "      <td>0.122172</td>\n",
       "      <td>(nati koli curry)</td>\n",
       "    </tr>\n",
       "    <tr>\n",
       "      <th>20</th>\n",
       "      <td>0.235294</td>\n",
       "      <td>(neer dosa)</td>\n",
       "    </tr>\n",
       "    <tr>\n",
       "      <th>21</th>\n",
       "      <td>0.072398</td>\n",
       "      <td>(ragi mudde)</td>\n",
       "    </tr>\n",
       "    <tr>\n",
       "      <th>22</th>\n",
       "      <td>0.067873</td>\n",
       "      <td>(sabakki vade)</td>\n",
       "    </tr>\n",
       "    <tr>\n",
       "      <th>23</th>\n",
       "      <td>0.076923</td>\n",
       "      <td>(seer fish tawa fry)</td>\n",
       "    </tr>\n",
       "    <tr>\n",
       "      <th>24</th>\n",
       "      <td>0.067873</td>\n",
       "      <td>(shavige)</td>\n",
       "    </tr>\n",
       "    <tr>\n",
       "      <th>25</th>\n",
       "      <td>0.063348</td>\n",
       "      <td>(shavige with kai halu)</td>\n",
       "    </tr>\n",
       "    <tr>\n",
       "      <th>26</th>\n",
       "      <td>0.054299</td>\n",
       "      <td>(sprite)</td>\n",
       "    </tr>\n",
       "    <tr>\n",
       "      <th>27</th>\n",
       "      <td>0.095023</td>\n",
       "      <td>(tandoori roti)</td>\n",
       "    </tr>\n",
       "    <tr>\n",
       "      <th>28</th>\n",
       "      <td>0.072398</td>\n",
       "      <td>(veg thali)</td>\n",
       "    </tr>\n",
       "    <tr>\n",
       "      <th>29</th>\n",
       "      <td>0.054299</td>\n",
       "      <td>(virgin watermelon mojito)</td>\n",
       "    </tr>\n",
       "    <tr>\n",
       "      <th>30</th>\n",
       "      <td>0.054299</td>\n",
       "      <td>(bottled water, 100 pipers)</td>\n",
       "    </tr>\n",
       "    <tr>\n",
       "      <th>31</th>\n",
       "      <td>0.085973</td>\n",
       "      <td>(avare kaalu gojju, akki rotti)</td>\n",
       "    </tr>\n",
       "    <tr>\n",
       "      <th>32</th>\n",
       "      <td>0.162896</td>\n",
       "      <td>(bottled water, akki rotti)</td>\n",
       "    </tr>\n",
       "    <tr>\n",
       "      <th>33</th>\n",
       "      <td>0.104072</td>\n",
       "      <td>(neer dosa, akki rotti)</td>\n",
       "    </tr>\n",
       "    <tr>\n",
       "      <th>34</th>\n",
       "      <td>0.090498</td>\n",
       "      <td>(bottled water, avare kaalu gojju)</td>\n",
       "    </tr>\n",
       "    <tr>\n",
       "      <th>35</th>\n",
       "      <td>0.067873</td>\n",
       "      <td>(neer dosa, avare kaalu gojju)</td>\n",
       "    </tr>\n",
       "    <tr>\n",
       "      <th>36</th>\n",
       "      <td>0.095023</td>\n",
       "      <td>(bottled water, black &amp; white)</td>\n",
       "    </tr>\n",
       "    <tr>\n",
       "      <th>37</th>\n",
       "      <td>0.076923</td>\n",
       "      <td>(fresh lime soda, black &amp; white)</td>\n",
       "    </tr>\n",
       "    <tr>\n",
       "      <th>38</th>\n",
       "      <td>0.058824</td>\n",
       "      <td>(bottled water, chicken biryani)</td>\n",
       "    </tr>\n",
       "    <tr>\n",
       "      <th>39</th>\n",
       "      <td>0.054299</td>\n",
       "      <td>(bottled water, crispy corn - karnataka style)</td>\n",
       "    </tr>\n",
       "    <tr>\n",
       "      <th>40</th>\n",
       "      <td>0.135747</td>\n",
       "      <td>(bottled water, fresh lime soda)</td>\n",
       "    </tr>\n",
       "    <tr>\n",
       "      <th>41</th>\n",
       "      <td>0.058824</td>\n",
       "      <td>(bottled water, green salad sticks)</td>\n",
       "    </tr>\n",
       "    <tr>\n",
       "      <th>42</th>\n",
       "      <td>0.072398</td>\n",
       "      <td>(mixed bean usli, bottled water)</td>\n",
       "    </tr>\n",
       "    <tr>\n",
       "      <th>43</th>\n",
       "      <td>0.095023</td>\n",
       "      <td>(bottled water, nati koli curry)</td>\n",
       "    </tr>\n",
       "    <tr>\n",
       "      <th>44</th>\n",
       "      <td>0.153846</td>\n",
       "      <td>(bottled water, neer dosa)</td>\n",
       "    </tr>\n",
       "    <tr>\n",
       "      <th>45</th>\n",
       "      <td>0.054299</td>\n",
       "      <td>(bottled water, sabakki vade)</td>\n",
       "    </tr>\n",
       "    <tr>\n",
       "      <th>46</th>\n",
       "      <td>0.072398</td>\n",
       "      <td>(bottled water, tandoori roti)</td>\n",
       "    </tr>\n",
       "    <tr>\n",
       "      <th>47</th>\n",
       "      <td>0.058824</td>\n",
       "      <td>(veg thali, bottled water)</td>\n",
       "    </tr>\n",
       "    <tr>\n",
       "      <th>48</th>\n",
       "      <td>0.054299</td>\n",
       "      <td>(neer dosa, fresh lime soda)</td>\n",
       "    </tr>\n",
       "    <tr>\n",
       "      <th>49</th>\n",
       "      <td>0.063348</td>\n",
       "      <td>(neer dosa, nati koli curry)</td>\n",
       "    </tr>\n",
       "    <tr>\n",
       "      <th>50</th>\n",
       "      <td>0.058824</td>\n",
       "      <td>(bottled water, avare kaalu gojju, akki rotti)</td>\n",
       "    </tr>\n",
       "    <tr>\n",
       "      <th>51</th>\n",
       "      <td>0.076923</td>\n",
       "      <td>(bottled water, neer dosa, akki rotti)</td>\n",
       "    </tr>\n",
       "    <tr>\n",
       "      <th>52</th>\n",
       "      <td>0.067873</td>\n",
       "      <td>(bottled water, fresh lime soda, black &amp; white)</td>\n",
       "    </tr>\n",
       "  </tbody>\n",
       "</table>\n",
       "</div>"
      ],
      "text/plain": [
       "     support                                         itemsets\n",
       "0   0.054299                                     (100 pipers)\n",
       "1   0.271493                                     (akki rotti)\n",
       "2   0.140271                              (avare kaalu gojju)\n",
       "3   0.108597                                  (black & white)\n",
       "4   0.533937                                  (bottled water)\n",
       "5   0.076923                                      (budweiser)\n",
       "6   0.058824                                   (caesar salad)\n",
       "7   0.095023                                (chicken biryani)\n",
       "8   0.072398                             (chicken ghee roast)\n",
       "9   0.099548                            (cigarettes - 10 nos)\n",
       "10  0.095023                  (crispy corn - karnataka style)\n",
       "11  0.054299                                (drums of heaven)\n",
       "12  0.054299                             (french fries plain)\n",
       "13  0.180995                                (fresh lime soda)\n",
       "14  0.058824                                    (fruit punch)\n",
       "15  0.076923                             (garlic pepper murg)\n",
       "16  0.090498                             (green salad sticks)\n",
       "17  0.063348                         (kingfisher ultra 650ml)\n",
       "18  0.104072                                (mixed bean usli)\n",
       "19  0.122172                                (nati koli curry)\n",
       "20  0.235294                                      (neer dosa)\n",
       "21  0.072398                                     (ragi mudde)\n",
       "22  0.067873                                   (sabakki vade)\n",
       "23  0.076923                             (seer fish tawa fry)\n",
       "24  0.067873                                        (shavige)\n",
       "25  0.063348                          (shavige with kai halu)\n",
       "26  0.054299                                         (sprite)\n",
       "27  0.095023                                  (tandoori roti)\n",
       "28  0.072398                                      (veg thali)\n",
       "29  0.054299                       (virgin watermelon mojito)\n",
       "30  0.054299                      (bottled water, 100 pipers)\n",
       "31  0.085973                  (avare kaalu gojju, akki rotti)\n",
       "32  0.162896                      (bottled water, akki rotti)\n",
       "33  0.104072                          (neer dosa, akki rotti)\n",
       "34  0.090498               (bottled water, avare kaalu gojju)\n",
       "35  0.067873                   (neer dosa, avare kaalu gojju)\n",
       "36  0.095023                   (bottled water, black & white)\n",
       "37  0.076923                 (fresh lime soda, black & white)\n",
       "38  0.058824                 (bottled water, chicken biryani)\n",
       "39  0.054299   (bottled water, crispy corn - karnataka style)\n",
       "40  0.135747                 (bottled water, fresh lime soda)\n",
       "41  0.058824              (bottled water, green salad sticks)\n",
       "42  0.072398                 (mixed bean usli, bottled water)\n",
       "43  0.095023                 (bottled water, nati koli curry)\n",
       "44  0.153846                       (bottled water, neer dosa)\n",
       "45  0.054299                    (bottled water, sabakki vade)\n",
       "46  0.072398                   (bottled water, tandoori roti)\n",
       "47  0.058824                       (veg thali, bottled water)\n",
       "48  0.054299                     (neer dosa, fresh lime soda)\n",
       "49  0.063348                     (neer dosa, nati koli curry)\n",
       "50  0.058824   (bottled water, avare kaalu gojju, akki rotti)\n",
       "51  0.076923           (bottled water, neer dosa, akki rotti)\n",
       "52  0.067873  (bottled water, fresh lime soda, black & white)"
      ]
     },
     "execution_count": 62,
     "metadata": {},
     "output_type": "execute_result"
    }
   ],
   "source": [
    "frq_items"
   ]
  },
  {
   "cell_type": "code",
   "execution_count": 57,
   "metadata": {},
   "outputs": [
    {
     "ename": "KeyError",
     "evalue": "True",
     "output_type": "error",
     "traceback": [
      "\u001b[0;31m---------------------------------------------------------------------------\u001b[0m",
      "\u001b[0;31mKeyError\u001b[0m                                  Traceback (most recent call last)",
      "\u001b[0;32m<ipython-input-57-6263fa5aedc1>\u001b[0m in \u001b[0;36m<module>\u001b[0;34m\u001b[0m\n\u001b[0;32m----> 1\u001b[0;31m \u001b[0mp\u001b[0m\u001b[0;34m[\u001b[0m\u001b[0mlen\u001b[0m\u001b[0;34m(\u001b[0m\u001b[0mp\u001b[0m\u001b[0;34m)\u001b[0m \u001b[0;34m>\u001b[0m \u001b[0;36m1\u001b[0m \u001b[0;34m]\u001b[0m\u001b[0;34m\u001b[0m\u001b[0m\n\u001b[0m",
      "\u001b[0;32m/anaconda3/lib/python3.6/site-packages/pandas/core/series.py\u001b[0m in \u001b[0;36m__getitem__\u001b[0;34m(self, key)\u001b[0m\n\u001b[1;32m    866\u001b[0m         \u001b[0mkey\u001b[0m \u001b[0;34m=\u001b[0m \u001b[0mcom\u001b[0m\u001b[0;34m.\u001b[0m\u001b[0mapply_if_callable\u001b[0m\u001b[0;34m(\u001b[0m\u001b[0mkey\u001b[0m\u001b[0;34m,\u001b[0m \u001b[0mself\u001b[0m\u001b[0;34m)\u001b[0m\u001b[0;34m\u001b[0m\u001b[0m\n\u001b[1;32m    867\u001b[0m         \u001b[0;32mtry\u001b[0m\u001b[0;34m:\u001b[0m\u001b[0;34m\u001b[0m\u001b[0m\n\u001b[0;32m--> 868\u001b[0;31m             \u001b[0mresult\u001b[0m \u001b[0;34m=\u001b[0m \u001b[0mself\u001b[0m\u001b[0;34m.\u001b[0m\u001b[0mindex\u001b[0m\u001b[0;34m.\u001b[0m\u001b[0mget_value\u001b[0m\u001b[0;34m(\u001b[0m\u001b[0mself\u001b[0m\u001b[0;34m,\u001b[0m \u001b[0mkey\u001b[0m\u001b[0;34m)\u001b[0m\u001b[0;34m\u001b[0m\u001b[0m\n\u001b[0m\u001b[1;32m    869\u001b[0m \u001b[0;34m\u001b[0m\u001b[0m\n\u001b[1;32m    870\u001b[0m             \u001b[0;32mif\u001b[0m \u001b[0;32mnot\u001b[0m \u001b[0mis_scalar\u001b[0m\u001b[0;34m(\u001b[0m\u001b[0mresult\u001b[0m\u001b[0;34m)\u001b[0m\u001b[0;34m:\u001b[0m\u001b[0;34m\u001b[0m\u001b[0m\n",
      "\u001b[0;32m/anaconda3/lib/python3.6/site-packages/pandas/core/indexes/base.py\u001b[0m in \u001b[0;36mget_value\u001b[0;34m(self, series, key)\u001b[0m\n\u001b[1;32m   4373\u001b[0m         \u001b[0;32mtry\u001b[0m\u001b[0;34m:\u001b[0m\u001b[0;34m\u001b[0m\u001b[0m\n\u001b[1;32m   4374\u001b[0m             return self._engine.get_value(s, k,\n\u001b[0;32m-> 4375\u001b[0;31m                                           tz=getattr(series.dtype, 'tz', None))\n\u001b[0m\u001b[1;32m   4376\u001b[0m         \u001b[0;32mexcept\u001b[0m \u001b[0mKeyError\u001b[0m \u001b[0;32mas\u001b[0m \u001b[0me1\u001b[0m\u001b[0;34m:\u001b[0m\u001b[0;34m\u001b[0m\u001b[0m\n\u001b[1;32m   4377\u001b[0m             \u001b[0;32mif\u001b[0m \u001b[0mlen\u001b[0m\u001b[0;34m(\u001b[0m\u001b[0mself\u001b[0m\u001b[0;34m)\u001b[0m \u001b[0;34m>\u001b[0m \u001b[0;36m0\u001b[0m \u001b[0;32mand\u001b[0m \u001b[0;34m(\u001b[0m\u001b[0mself\u001b[0m\u001b[0;34m.\u001b[0m\u001b[0mholds_integer\u001b[0m\u001b[0;34m(\u001b[0m\u001b[0;34m)\u001b[0m \u001b[0;32mor\u001b[0m \u001b[0mself\u001b[0m\u001b[0;34m.\u001b[0m\u001b[0mis_boolean\u001b[0m\u001b[0;34m(\u001b[0m\u001b[0;34m)\u001b[0m\u001b[0;34m)\u001b[0m\u001b[0;34m:\u001b[0m\u001b[0;34m\u001b[0m\u001b[0m\n",
      "\u001b[0;32mpandas/_libs/index.pyx\u001b[0m in \u001b[0;36mpandas._libs.index.IndexEngine.get_value\u001b[0;34m()\u001b[0m\n",
      "\u001b[0;32mpandas/_libs/index.pyx\u001b[0m in \u001b[0;36mpandas._libs.index.IndexEngine.get_value\u001b[0;34m()\u001b[0m\n",
      "\u001b[0;32mpandas/_libs/index.pyx\u001b[0m in \u001b[0;36mpandas._libs.index.IndexEngine.get_loc\u001b[0;34m()\u001b[0m\n",
      "\u001b[0;32mpandas/_libs/index_class_helper.pxi\u001b[0m in \u001b[0;36mpandas._libs.index.Int64Engine._check_type\u001b[0;34m()\u001b[0m\n",
      "\u001b[0;31mKeyError\u001b[0m: True"
     ]
    }
   ],
   "source": []
  },
  {
   "cell_type": "code",
   "execution_count": null,
   "metadata": {},
   "outputs": [],
   "source": []
  }
 ],
 "metadata": {
  "kernelspec": {
   "display_name": "Python 3",
   "language": "python",
   "name": "python3"
  },
  "language_info": {
   "codemirror_mode": {
    "name": "ipython",
    "version": 3
   },
   "file_extension": ".py",
   "mimetype": "text/x-python",
   "name": "python",
   "nbconvert_exporter": "python",
   "pygments_lexer": "ipython3",
   "version": "3.6.4"
  }
 },
 "nbformat": 4,
 "nbformat_minor": 2
}
