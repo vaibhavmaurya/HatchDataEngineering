{
 "cells": [
  {
   "cell_type": "markdown",
   "metadata": {},
   "source": [
    "### Data Organization and Cleaning"
   ]
  },
  {
   "cell_type": "code",
   "execution_count": 113,
   "metadata": {},
   "outputs": [],
   "source": [
    "import pandas as pd\n",
    "import numpy as np\n",
    "import matplotlib.pyplot as plt\n",
    "\n",
    "%matplotlib inline"
   ]
  },
  {
   "cell_type": "markdown",
   "metadata": {},
   "source": [
    "### Read Data:\n",
    "- Read hatch bill data\n",
    "- Read hatch time spent data"
   ]
  },
  {
   "cell_type": "code",
   "execution_count": 114,
   "metadata": {},
   "outputs": [],
   "source": [
    "hatch_bill_data = pd.read_csv(\"./clean_data/full_csv.csv\")"
   ]
  },
  {
   "cell_type": "code",
   "execution_count": 115,
   "metadata": {},
   "outputs": [
    {
     "data": {
      "text/plain": [
       "array(['14.0', '5.0', '15.0', '3.0', '1.0', '2.0', '19.0', '7.0', 'B3',\n",
       "       '17.0', 'B1', '11.0', '16.0', '18.0', 'B2', 'B5', 'B4', '4.0',\n",
       "       '8.0', '10.0', '6.0', '12.0', '9.0', 'B7', 'B6', '20.0', 'B8',\n",
       "       'TBB5', 'TBB17', 'TBB4', 'TBB15', 'TBB18', 'TBB3', 'TBB20', 'TBB2',\n",
       "       'TBB19', 'TBB12', 'TBB14', 'TBB6', 'TBB10', 'TBB7', 'TBB16',\n",
       "       'TBB1', nan, 'TBB11', 'TBB8', 'TBB9', 'TBB13'], dtype=object)"
      ]
     },
     "execution_count": 115,
     "metadata": {},
     "output_type": "execute_result"
    }
   ],
   "source": [
    "hatch_bill_data.Tbl_.unique()"
   ]
  },
  {
   "cell_type": "code",
   "execution_count": 116,
   "metadata": {},
   "outputs": [
    {
     "data": {
      "text/plain": [
       "array([14654., 14655., 14656., ..., 21601., 21617., 21642.])"
      ]
     },
     "execution_count": 116,
     "metadata": {},
     "output_type": "execute_result"
    }
   ],
   "source": [
    "hatch_bill_data.KotNo.unique()"
   ]
  },
  {
   "cell_type": "code",
   "execution_count": 117,
   "metadata": {},
   "outputs": [],
   "source": [
    "# categorical data\n",
    "categorical_cols = [\"Classification\",\"MenuGroup\",\"ItemCode\"]\n",
    "# string cols\n",
    "string_cols = [\"Tbl_\",\"BillNo\",\"KotNo\",\"Pax\", \"S_No\"]\n"
   ]
  },
  {
   "cell_type": "code",
   "execution_count": 118,
   "metadata": {},
   "outputs": [
    {
     "name": "stdout",
     "output_type": "stream",
     "text": [
      "<class 'pandas.core.frame.DataFrame'>\n",
      "RangeIndex: 134302 entries, 0 to 134301\n",
      "Data columns (total 23 columns):\n",
      "S_No                 134292 non-null float64\n",
      "BillDate_and_Time    134302 non-null object\n",
      "BillNo               134292 non-null object\n",
      "Tbl_                 134292 non-null object\n",
      "Pax                  134292 non-null float64\n",
      "KotNo                134292 non-null float64\n",
      "KOTDate_and_Time     134302 non-null object\n",
      "Steward              134292 non-null object\n",
      "Classification       134302 non-null object\n",
      "MenuGroup            134302 non-null object\n",
      "ItemCode             134302 non-null float64\n",
      "ItemName             134302 non-null object\n",
      "Rate                 134302 non-null float64\n",
      "Qty                  134302 non-null float64\n",
      "Amount               134302 non-null float64\n",
      "Discount             126551 non-null float64\n",
      "CGS_2_5              84213 non-null float64\n",
      "SGS_2_5              84213 non-null float64\n",
      "Total                134302 non-null float64\n",
      "UserID               134302 non-null object\n",
      "PayMode              15242 non-null object\n",
      "Tips                 15242 non-null float64\n",
      "Restaurant           134302 non-null object\n",
      "dtypes: float64(12), object(11)\n",
      "memory usage: 23.6+ MB\n"
     ]
    }
   ],
   "source": [
    "hatch_bill_data.info()"
   ]
  },
  {
   "cell_type": "code",
   "execution_count": 119,
   "metadata": {},
   "outputs": [],
   "source": [
    "for x in categorical_cols:\n",
    "    hatch_bill_data[x] = hatch_bill_data[x].astype('category')\n",
    "for x in string_cols:\n",
    "    hatch_bill_data[x] = hatch_bill_data[x].astype(str)"
   ]
  },
  {
   "cell_type": "code",
   "execution_count": 120,
   "metadata": {},
   "outputs": [
    {
     "name": "stdout",
     "output_type": "stream",
     "text": [
      "<class 'pandas.core.frame.DataFrame'>\n",
      "RangeIndex: 134302 entries, 0 to 134301\n",
      "Data columns (total 23 columns):\n",
      "S_No                 134302 non-null object\n",
      "BillDate_and_Time    134302 non-null datetime64[ns]\n",
      "BillNo               134302 non-null object\n",
      "Tbl_                 134302 non-null object\n",
      "Pax                  134302 non-null object\n",
      "KotNo                134302 non-null object\n",
      "KOTDate_and_Time     134302 non-null object\n",
      "Steward              134292 non-null object\n",
      "Classification       134302 non-null category\n",
      "MenuGroup            134302 non-null category\n",
      "ItemCode             134302 non-null category\n",
      "ItemName             134302 non-null object\n",
      "Rate                 134302 non-null float64\n",
      "Qty                  134302 non-null float64\n",
      "Amount               134302 non-null float64\n",
      "Discount             126551 non-null float64\n",
      "CGS_2_5              84213 non-null float64\n",
      "SGS_2_5              84213 non-null float64\n",
      "Total                134302 non-null float64\n",
      "UserID               134302 non-null object\n",
      "PayMode              15242 non-null object\n",
      "Tips                 15242 non-null float64\n",
      "Restaurant           134302 non-null object\n",
      "dtypes: category(3), datetime64[ns](1), float64(8), object(11)\n",
      "memory usage: 21.0+ MB\n"
     ]
    }
   ],
   "source": [
    "hatch_bill_data['BillDate_and_Time'] = pd.to_datetime(hatch_bill_data.BillDate_and_Time)\n",
    "hatch_bill_data.info()"
   ]
  },
  {
   "cell_type": "code",
   "execution_count": 121,
   "metadata": {},
   "outputs": [],
   "source": [
    "hatch_bill_data.Discount.fillna(0,inplace=True)\n",
    "hatch_bill_data.CGS_2_5.fillna(0,inplace=True)\n",
    "hatch_bill_data.SGS_2_5.fillna(0,inplace=True)"
   ]
  },
  {
   "cell_type": "code",
   "execution_count": 122,
   "metadata": {},
   "outputs": [
    {
     "data": {
      "text/plain": [
       "array(['14.0', '5.0', '15.0', '3.0', '1.0', '2.0', '19.0', '7.0', 'B3',\n",
       "       '17.0', 'B1', '11.0', '16.0', '18.0', 'B2', 'B5', 'B4', '4.0',\n",
       "       '8.0', '10.0', '6.0', '12.0', '9.0', 'B7', 'B6', '20.0', 'B8',\n",
       "       'TBB5', 'TBB17', 'TBB4', 'TBB15', 'TBB18', 'TBB3', 'TBB20', 'TBB2',\n",
       "       'TBB19', 'TBB12', 'TBB14', 'TBB6', 'TBB10', 'TBB7', 'TBB16',\n",
       "       'TBB1', 'nan', 'TBB11', 'TBB8', 'TBB9', 'TBB13'], dtype=object)"
      ]
     },
     "execution_count": 122,
     "metadata": {},
     "output_type": "execute_result"
    }
   ],
   "source": [
    "hatch_bill_data.Tbl_.unique()"
   ]
  },
  {
   "cell_type": "code",
   "execution_count": 123,
   "metadata": {},
   "outputs": [
    {
     "data": {
      "text/plain": [
       "array(['14', '5', '15', '3', '1', '2', '19', '7', 'B3', '17', 'B1', '11',\n",
       "       '16', '18', 'B2', 'B5', 'B4', '4', '8', '10', '6', '12', '9', 'B7',\n",
       "       'B6', '20', 'B8', 'TBB5', 'TBB17', 'TBB4', 'TBB15', 'TBB18',\n",
       "       'TBB3', 'TBB20', 'TBB2', 'TBB19', 'TBB12', 'TBB14', 'TBB6',\n",
       "       'TBB10', 'TBB7', 'TBB16', 'TBB1', 'nan', 'TBB11', 'TBB8', 'TBB9',\n",
       "       'TBB13'], dtype=object)"
      ]
     },
     "execution_count": 123,
     "metadata": {},
     "output_type": "execute_result"
    }
   ],
   "source": [
    "# hatch_bill_data.Pax = hatch_bill_data.Pax.str.strip('.0')\n",
    "# hatch_bill_data.Tbl_ = hatch_bill_data.Tbl_.str.replace('.0','',1)\n",
    "# hatch_bill_data.Tbl_.unique()\n",
    "\n",
    "p = hatch_bill_data.Tbl_.str.split('.')\n",
    "hatch_bill_data.Tbl_ = [p[i][0] for i in range(len(p))]\n",
    "hatch_bill_data.Tbl_.unique()"
   ]
  },
  {
   "cell_type": "code",
   "execution_count": 124,
   "metadata": {},
   "outputs": [],
   "source": [
    "b = '10.0'"
   ]
  },
  {
   "cell_type": "code",
   "execution_count": 125,
   "metadata": {},
   "outputs": [
    {
     "data": {
      "text/plain": [
       "['10', '0']"
      ]
     },
     "execution_count": 125,
     "metadata": {},
     "output_type": "execute_result"
    }
   ],
   "source": [
    "b.split('.')"
   ]
  },
  {
   "cell_type": "code",
   "execution_count": 126,
   "metadata": {},
   "outputs": [
    {
     "name": "stdout",
     "output_type": "stream",
     "text": [
      "<class 'pandas.core.frame.DataFrame'>\n",
      "RangeIndex: 134302 entries, 0 to 134301\n",
      "Data columns (total 23 columns):\n",
      "S_No                 134302 non-null object\n",
      "BillDate_and_Time    134302 non-null datetime64[ns]\n",
      "BillNo               134302 non-null object\n",
      "Tbl_                 134302 non-null object\n",
      "Pax                  134302 non-null object\n",
      "KotNo                134302 non-null object\n",
      "KOTDate_and_Time     134302 non-null object\n",
      "Steward              134292 non-null object\n",
      "Classification       134302 non-null category\n",
      "MenuGroup            134302 non-null category\n",
      "ItemCode             134302 non-null category\n",
      "ItemName             134302 non-null object\n",
      "Rate                 134302 non-null float64\n",
      "Qty                  134302 non-null float64\n",
      "Amount               134302 non-null float64\n",
      "Discount             134302 non-null float64\n",
      "CGS_2_5              134302 non-null float64\n",
      "SGS_2_5              134302 non-null float64\n",
      "Total                134302 non-null float64\n",
      "UserID               134302 non-null object\n",
      "PayMode              15242 non-null object\n",
      "Tips                 15242 non-null float64\n",
      "Restaurant           134302 non-null object\n",
      "dtypes: category(3), datetime64[ns](1), float64(8), object(11)\n",
      "memory usage: 21.0+ MB\n"
     ]
    }
   ],
   "source": [
    "hatch_bill_data.info()"
   ]
  },
  {
   "cell_type": "code",
   "execution_count": 127,
   "metadata": {},
   "outputs": [
    {
     "data": {
      "text/html": [
       "<div>\n",
       "<style scoped>\n",
       "    .dataframe tbody tr th:only-of-type {\n",
       "        vertical-align: middle;\n",
       "    }\n",
       "\n",
       "    .dataframe tbody tr th {\n",
       "        vertical-align: top;\n",
       "    }\n",
       "\n",
       "    .dataframe thead th {\n",
       "        text-align: right;\n",
       "    }\n",
       "</style>\n",
       "<table border=\"1\" class=\"dataframe\">\n",
       "  <thead>\n",
       "    <tr style=\"text-align: right;\">\n",
       "      <th></th>\n",
       "      <th>S_No</th>\n",
       "      <th>BillDate_and_Time</th>\n",
       "      <th>BillNo</th>\n",
       "      <th>Tbl_</th>\n",
       "      <th>Pax</th>\n",
       "      <th>KotNo</th>\n",
       "      <th>KOTDate_and_Time</th>\n",
       "      <th>Steward</th>\n",
       "      <th>Classification</th>\n",
       "      <th>MenuGroup</th>\n",
       "      <th>...</th>\n",
       "      <th>Qty</th>\n",
       "      <th>Amount</th>\n",
       "      <th>Discount</th>\n",
       "      <th>CGS_2_5</th>\n",
       "      <th>SGS_2_5</th>\n",
       "      <th>Total</th>\n",
       "      <th>UserID</th>\n",
       "      <th>PayMode</th>\n",
       "      <th>Tips</th>\n",
       "      <th>Restaurant</th>\n",
       "    </tr>\n",
       "  </thead>\n",
       "  <tbody>\n",
       "    <tr>\n",
       "      <th>0</th>\n",
       "      <td>1.0</td>\n",
       "      <td>2019-01-23 14:26:00</td>\n",
       "      <td>HEJ3273</td>\n",
       "      <td>14</td>\n",
       "      <td>4.0</td>\n",
       "      <td>14654.0</td>\n",
       "      <td>2019-01-23T13:35:00</td>\n",
       "      <td>Ganesh</td>\n",
       "      <td>Food</td>\n",
       "      <td>Vegetarian Starters</td>\n",
       "      <td>...</td>\n",
       "      <td>1.0</td>\n",
       "      <td>235.0</td>\n",
       "      <td>0.0</td>\n",
       "      <td>5.88</td>\n",
       "      <td>5.88</td>\n",
       "      <td>246.76</td>\n",
       "      <td>NAGESH</td>\n",
       "      <td>NaN</td>\n",
       "      <td>NaN</td>\n",
       "      <td>The Estate</td>\n",
       "    </tr>\n",
       "    <tr>\n",
       "      <th>1</th>\n",
       "      <td>1.0</td>\n",
       "      <td>2019-01-23 14:26:00</td>\n",
       "      <td>HEJ3273</td>\n",
       "      <td>14</td>\n",
       "      <td>4.0</td>\n",
       "      <td>14654.0</td>\n",
       "      <td>2019-01-23T13:35:00</td>\n",
       "      <td>Ganesh</td>\n",
       "      <td>Food</td>\n",
       "      <td>Vegetarian Starters</td>\n",
       "      <td>...</td>\n",
       "      <td>1.0</td>\n",
       "      <td>245.0</td>\n",
       "      <td>0.0</td>\n",
       "      <td>6.13</td>\n",
       "      <td>6.13</td>\n",
       "      <td>257.26</td>\n",
       "      <td>NAGESH</td>\n",
       "      <td>NaN</td>\n",
       "      <td>NaN</td>\n",
       "      <td>The Estate</td>\n",
       "    </tr>\n",
       "    <tr>\n",
       "      <th>2</th>\n",
       "      <td>1.0</td>\n",
       "      <td>2019-01-23 14:26:00</td>\n",
       "      <td>HEJ3273</td>\n",
       "      <td>14</td>\n",
       "      <td>4.0</td>\n",
       "      <td>14654.0</td>\n",
       "      <td>2019-01-23T13:35:00</td>\n",
       "      <td>Ganesh</td>\n",
       "      <td>Food</td>\n",
       "      <td>Non Vegetarian Starters</td>\n",
       "      <td>...</td>\n",
       "      <td>1.0</td>\n",
       "      <td>245.0</td>\n",
       "      <td>0.0</td>\n",
       "      <td>6.13</td>\n",
       "      <td>6.13</td>\n",
       "      <td>257.26</td>\n",
       "      <td>NAGESH</td>\n",
       "      <td>NaN</td>\n",
       "      <td>NaN</td>\n",
       "      <td>The Estate</td>\n",
       "    </tr>\n",
       "    <tr>\n",
       "      <th>3</th>\n",
       "      <td>1.0</td>\n",
       "      <td>2019-01-23 14:26:00</td>\n",
       "      <td>HEJ3273</td>\n",
       "      <td>14</td>\n",
       "      <td>4.0</td>\n",
       "      <td>14654.0</td>\n",
       "      <td>2019-01-23T13:35:00</td>\n",
       "      <td>Ganesh</td>\n",
       "      <td>Others</td>\n",
       "      <td>Soft Beverages</td>\n",
       "      <td>...</td>\n",
       "      <td>1.0</td>\n",
       "      <td>20.0</td>\n",
       "      <td>0.0</td>\n",
       "      <td>0.50</td>\n",
       "      <td>0.50</td>\n",
       "      <td>21.00</td>\n",
       "      <td>NAGESH</td>\n",
       "      <td>NaN</td>\n",
       "      <td>NaN</td>\n",
       "      <td>The Estate</td>\n",
       "    </tr>\n",
       "    <tr>\n",
       "      <th>4</th>\n",
       "      <td>1.0</td>\n",
       "      <td>2019-01-23 14:26:00</td>\n",
       "      <td>HEJ3273</td>\n",
       "      <td>14</td>\n",
       "      <td>4.0</td>\n",
       "      <td>14654.0</td>\n",
       "      <td>2019-01-23T13:35:00</td>\n",
       "      <td>Ganesh</td>\n",
       "      <td>Food</td>\n",
       "      <td>Bread</td>\n",
       "      <td>...</td>\n",
       "      <td>1.0</td>\n",
       "      <td>75.0</td>\n",
       "      <td>0.0</td>\n",
       "      <td>1.88</td>\n",
       "      <td>1.88</td>\n",
       "      <td>78.76</td>\n",
       "      <td>NAGESH</td>\n",
       "      <td>NaN</td>\n",
       "      <td>NaN</td>\n",
       "      <td>The Estate</td>\n",
       "    </tr>\n",
       "  </tbody>\n",
       "</table>\n",
       "<p>5 rows × 23 columns</p>\n",
       "</div>"
      ],
      "text/plain": [
       "  S_No   BillDate_and_Time   BillNo Tbl_  Pax    KotNo     KOTDate_and_Time  \\\n",
       "0  1.0 2019-01-23 14:26:00  HEJ3273   14  4.0  14654.0  2019-01-23T13:35:00   \n",
       "1  1.0 2019-01-23 14:26:00  HEJ3273   14  4.0  14654.0  2019-01-23T13:35:00   \n",
       "2  1.0 2019-01-23 14:26:00  HEJ3273   14  4.0  14654.0  2019-01-23T13:35:00   \n",
       "3  1.0 2019-01-23 14:26:00  HEJ3273   14  4.0  14654.0  2019-01-23T13:35:00   \n",
       "4  1.0 2019-01-23 14:26:00  HEJ3273   14  4.0  14654.0  2019-01-23T13:35:00   \n",
       "\n",
       "  Steward Classification                MenuGroup  ...  Qty Amount  Discount  \\\n",
       "0  Ganesh           Food      Vegetarian Starters  ...  1.0  235.0       0.0   \n",
       "1  Ganesh           Food      Vegetarian Starters  ...  1.0  245.0       0.0   \n",
       "2  Ganesh           Food  Non Vegetarian Starters  ...  1.0  245.0       0.0   \n",
       "3  Ganesh         Others           Soft Beverages  ...  1.0   20.0       0.0   \n",
       "4  Ganesh           Food                    Bread  ...  1.0   75.0       0.0   \n",
       "\n",
       "   CGS_2_5  SGS_2_5   Total  UserID  PayMode  Tips  Restaurant  \n",
       "0     5.88     5.88  246.76  NAGESH      NaN   NaN  The Estate  \n",
       "1     6.13     6.13  257.26  NAGESH      NaN   NaN  The Estate  \n",
       "2     6.13     6.13  257.26  NAGESH      NaN   NaN  The Estate  \n",
       "3     0.50     0.50   21.00  NAGESH      NaN   NaN  The Estate  \n",
       "4     1.88     1.88   78.76  NAGESH      NaN   NaN  The Estate  \n",
       "\n",
       "[5 rows x 23 columns]"
      ]
     },
     "execution_count": 127,
     "metadata": {},
     "output_type": "execute_result"
    }
   ],
   "source": [
    "hatch_bill_data.head()"
   ]
  },
  {
   "cell_type": "code",
   "execution_count": 128,
   "metadata": {},
   "outputs": [],
   "source": [
    "import sqlite3\n",
    "conn = sqlite3.connect('hatch.db')\n",
    "hatch_bill_data.to_sql('hatch_bill_data',conn,if_exists='append', index=False)\n",
    "conn.close()"
   ]
  },
  {
   "cell_type": "code",
   "execution_count": null,
   "metadata": {},
   "outputs": [],
   "source": []
  },
  {
   "cell_type": "code",
   "execution_count": null,
   "metadata": {},
   "outputs": [],
   "source": []
  },
  {
   "cell_type": "code",
   "execution_count": 129,
   "metadata": {},
   "outputs": [],
   "source": [
    "hatch_kot_data = pd.read_csv(\"./clean_data/full_csv_kot.csv\")"
   ]
  },
  {
   "cell_type": "code",
   "execution_count": null,
   "metadata": {},
   "outputs": [],
   "source": []
  },
  {
   "cell_type": "code",
   "execution_count": 130,
   "metadata": {},
   "outputs": [
    {
     "data": {
      "text/html": [
       "<div>\n",
       "<style scoped>\n",
       "    .dataframe tbody tr th:only-of-type {\n",
       "        vertical-align: middle;\n",
       "    }\n",
       "\n",
       "    .dataframe tbody tr th {\n",
       "        vertical-align: top;\n",
       "    }\n",
       "\n",
       "    .dataframe thead th {\n",
       "        text-align: right;\n",
       "    }\n",
       "</style>\n",
       "<table border=\"1\" class=\"dataframe\">\n",
       "  <thead>\n",
       "    <tr style=\"text-align: right;\">\n",
       "      <th></th>\n",
       "      <th>Restaurant</th>\n",
       "      <th>Tbl_</th>\n",
       "      <th>Pax</th>\n",
       "      <th>BillNo</th>\n",
       "      <th>BillDate_and_Time</th>\n",
       "      <th>KotOrderNo</th>\n",
       "      <th>KOTOrderDateAndTime</th>\n",
       "      <th>Steward</th>\n",
       "      <th>ItemName</th>\n",
       "      <th>Qty</th>\n",
       "      <th>PayMode</th>\n",
       "      <th>SettlementDateTime</th>\n",
       "      <th>UserId</th>\n",
       "    </tr>\n",
       "  </thead>\n",
       "  <tbody>\n",
       "    <tr>\n",
       "      <th>0</th>\n",
       "      <td>Timber</td>\n",
       "      <td>B1</td>\n",
       "      <td>1.0</td>\n",
       "      <td>5442.0</td>\n",
       "      <td>2019-03-01T11:48:00</td>\n",
       "      <td>20462.0</td>\n",
       "      <td>2019-03-01T11:40:00</td>\n",
       "      <td>Amalnathan</td>\n",
       "      <td>ROYAL STAG</td>\n",
       "      <td>3.0</td>\n",
       "      <td>Cash</td>\n",
       "      <td>2019-03-01T19:27:00</td>\n",
       "      <td>AMALNATHAN</td>\n",
       "    </tr>\n",
       "    <tr>\n",
       "      <th>1</th>\n",
       "      <td>Timber</td>\n",
       "      <td>B1</td>\n",
       "      <td>1.0</td>\n",
       "      <td>5442.0</td>\n",
       "      <td>2019-03-01T11:48:00</td>\n",
       "      <td>20462.0</td>\n",
       "      <td>2019-03-01T11:40:00</td>\n",
       "      <td>Amalnathan</td>\n",
       "      <td>Soda</td>\n",
       "      <td>1.0</td>\n",
       "      <td>Cash</td>\n",
       "      <td>2019-03-01T19:27:00</td>\n",
       "      <td>AMALNATHAN</td>\n",
       "    </tr>\n",
       "    <tr>\n",
       "      <th>2</th>\n",
       "      <td>Timber</td>\n",
       "      <td>2</td>\n",
       "      <td>2.0</td>\n",
       "      <td>5443.0</td>\n",
       "      <td>2019-03-01T14:35:00</td>\n",
       "      <td>20463.0</td>\n",
       "      <td>2019-03-01T13:08:00</td>\n",
       "      <td>Amalnathan</td>\n",
       "      <td>Budweiser Draught Mug (p)</td>\n",
       "      <td>2.0</td>\n",
       "      <td>Cash</td>\n",
       "      <td>2019-03-01T18:12:00</td>\n",
       "      <td>GANESH</td>\n",
       "    </tr>\n",
       "    <tr>\n",
       "      <th>3</th>\n",
       "      <td>Timber</td>\n",
       "      <td>2</td>\n",
       "      <td>2.0</td>\n",
       "      <td>5443.0</td>\n",
       "      <td>2019-03-01T14:35:00</td>\n",
       "      <td>20463.0</td>\n",
       "      <td>2019-03-01T13:08:00</td>\n",
       "      <td>Amalnathan</td>\n",
       "      <td>Budweiser Draught Mug (p)</td>\n",
       "      <td>1.0</td>\n",
       "      <td>Cash</td>\n",
       "      <td>2019-03-01T18:12:00</td>\n",
       "      <td>GANESH</td>\n",
       "    </tr>\n",
       "    <tr>\n",
       "      <th>4</th>\n",
       "      <td>Timber</td>\n",
       "      <td>2</td>\n",
       "      <td>2.0</td>\n",
       "      <td>5443.0</td>\n",
       "      <td>2019-03-01T14:35:00</td>\n",
       "      <td>20463.0</td>\n",
       "      <td>2019-03-01T13:08:00</td>\n",
       "      <td>Amalnathan</td>\n",
       "      <td>Guntoor Chicken</td>\n",
       "      <td>1.0</td>\n",
       "      <td>Cash</td>\n",
       "      <td>2019-03-01T18:12:00</td>\n",
       "      <td>GANESH</td>\n",
       "    </tr>\n",
       "  </tbody>\n",
       "</table>\n",
       "</div>"
      ],
      "text/plain": [
       "  Restaurant Tbl_  Pax  BillNo    BillDate_and_Time  KotOrderNo  \\\n",
       "0     Timber   B1  1.0  5442.0  2019-03-01T11:48:00     20462.0   \n",
       "1     Timber   B1  1.0  5442.0  2019-03-01T11:48:00     20462.0   \n",
       "2     Timber    2  2.0  5443.0  2019-03-01T14:35:00     20463.0   \n",
       "3     Timber    2  2.0  5443.0  2019-03-01T14:35:00     20463.0   \n",
       "4     Timber    2  2.0  5443.0  2019-03-01T14:35:00     20463.0   \n",
       "\n",
       "   KOTOrderDateAndTime     Steward                   ItemName  Qty PayMode  \\\n",
       "0  2019-03-01T11:40:00  Amalnathan                 ROYAL STAG  3.0    Cash   \n",
       "1  2019-03-01T11:40:00  Amalnathan                       Soda  1.0    Cash   \n",
       "2  2019-03-01T13:08:00  Amalnathan  Budweiser Draught Mug (p)  2.0    Cash   \n",
       "3  2019-03-01T13:08:00  Amalnathan  Budweiser Draught Mug (p)  1.0    Cash   \n",
       "4  2019-03-01T13:08:00  Amalnathan            Guntoor Chicken  1.0    Cash   \n",
       "\n",
       "    SettlementDateTime      UserId  \n",
       "0  2019-03-01T19:27:00  AMALNATHAN  \n",
       "1  2019-03-01T19:27:00  AMALNATHAN  \n",
       "2  2019-03-01T18:12:00      GANESH  \n",
       "3  2019-03-01T18:12:00      GANESH  \n",
       "4  2019-03-01T18:12:00      GANESH  "
      ]
     },
     "execution_count": 130,
     "metadata": {},
     "output_type": "execute_result"
    }
   ],
   "source": [
    "hatch_kot_data.head()"
   ]
  },
  {
   "cell_type": "code",
   "execution_count": 131,
   "metadata": {},
   "outputs": [
    {
     "name": "stdout",
     "output_type": "stream",
     "text": [
      "<class 'pandas.core.frame.DataFrame'>\n",
      "RangeIndex: 134302 entries, 0 to 134301\n",
      "Data columns (total 13 columns):\n",
      "Restaurant             134302 non-null object\n",
      "Tbl_                   134302 non-null object\n",
      "Pax                    134297 non-null float64\n",
      "BillNo                 134297 non-null float64\n",
      "BillDate_and_Time      134302 non-null object\n",
      "KotOrderNo             134302 non-null float64\n",
      "KOTOrderDateAndTime    134302 non-null object\n",
      "Steward                134302 non-null object\n",
      "ItemName               134302 non-null object\n",
      "Qty                    134302 non-null float64\n",
      "PayMode                134297 non-null object\n",
      "SettlementDateTime     134302 non-null object\n",
      "UserId                 134297 non-null object\n",
      "dtypes: float64(4), object(9)\n",
      "memory usage: 13.3+ MB\n"
     ]
    }
   ],
   "source": [
    "hatch_kot_data.info()\n",
    "# hatch_kot_data.Pax = hatch_kot_data.Pax.astype(str)\n",
    "# hatch_kot_data.Pax = hatch_kot_data.Pax.str.strip('.0')\n",
    "# hatch_kot_data.KotOrderNo = hatch_kot_data.KotOrderNo.astype(str)\n",
    "# hatch_kot_data.KotOrderNo = hatch_kot_data.KotOrderNo.str.strip('.0')"
   ]
  },
  {
   "cell_type": "code",
   "execution_count": 132,
   "metadata": {},
   "outputs": [],
   "source": [
    "# categorical data\n",
    "categorical_cols = [\"PayMode\",\"Tbl_\"]\n",
    "# integer types\n",
    "str_cols = [\"BillNo\",\"KotOrderNo\", \"Pax\"]\n",
    "\n",
    "for x in categorical_cols:\n",
    "    hatch_kot_data[x] = hatch_kot_data[x].astype('category')\n",
    "for x in str_cols:\n",
    "    hatch_kot_data[x] = hatch_kot_data[x].astype(str) "
   ]
  },
  {
   "cell_type": "code",
   "execution_count": 133,
   "metadata": {},
   "outputs": [
    {
     "data": {
      "text/html": [
       "<div>\n",
       "<style scoped>\n",
       "    .dataframe tbody tr th:only-of-type {\n",
       "        vertical-align: middle;\n",
       "    }\n",
       "\n",
       "    .dataframe tbody tr th {\n",
       "        vertical-align: top;\n",
       "    }\n",
       "\n",
       "    .dataframe thead th {\n",
       "        text-align: right;\n",
       "    }\n",
       "</style>\n",
       "<table border=\"1\" class=\"dataframe\">\n",
       "  <thead>\n",
       "    <tr style=\"text-align: right;\">\n",
       "      <th></th>\n",
       "      <th>Restaurant</th>\n",
       "      <th>Tbl_</th>\n",
       "      <th>Pax</th>\n",
       "      <th>BillNo</th>\n",
       "      <th>BillDate_and_Time</th>\n",
       "      <th>KotOrderNo</th>\n",
       "      <th>KOTOrderDateAndTime</th>\n",
       "      <th>Steward</th>\n",
       "      <th>ItemName</th>\n",
       "      <th>Qty</th>\n",
       "      <th>PayMode</th>\n",
       "      <th>SettlementDateTime</th>\n",
       "      <th>UserId</th>\n",
       "    </tr>\n",
       "  </thead>\n",
       "  <tbody>\n",
       "    <tr>\n",
       "      <th>0</th>\n",
       "      <td>Timber</td>\n",
       "      <td>B1</td>\n",
       "      <td>1.0</td>\n",
       "      <td>5442.0</td>\n",
       "      <td>2019-03-01T11:48:00</td>\n",
       "      <td>20462.0</td>\n",
       "      <td>2019-03-01T11:40:00</td>\n",
       "      <td>Amalnathan</td>\n",
       "      <td>ROYAL STAG</td>\n",
       "      <td>3.0</td>\n",
       "      <td>Cash</td>\n",
       "      <td>2019-03-01T19:27:00</td>\n",
       "      <td>AMALNATHAN</td>\n",
       "    </tr>\n",
       "    <tr>\n",
       "      <th>1</th>\n",
       "      <td>Timber</td>\n",
       "      <td>B1</td>\n",
       "      <td>1.0</td>\n",
       "      <td>5442.0</td>\n",
       "      <td>2019-03-01T11:48:00</td>\n",
       "      <td>20462.0</td>\n",
       "      <td>2019-03-01T11:40:00</td>\n",
       "      <td>Amalnathan</td>\n",
       "      <td>Soda</td>\n",
       "      <td>1.0</td>\n",
       "      <td>Cash</td>\n",
       "      <td>2019-03-01T19:27:00</td>\n",
       "      <td>AMALNATHAN</td>\n",
       "    </tr>\n",
       "    <tr>\n",
       "      <th>2</th>\n",
       "      <td>Timber</td>\n",
       "      <td>2</td>\n",
       "      <td>2.0</td>\n",
       "      <td>5443.0</td>\n",
       "      <td>2019-03-01T14:35:00</td>\n",
       "      <td>20463.0</td>\n",
       "      <td>2019-03-01T13:08:00</td>\n",
       "      <td>Amalnathan</td>\n",
       "      <td>Budweiser Draught Mug (p)</td>\n",
       "      <td>2.0</td>\n",
       "      <td>Cash</td>\n",
       "      <td>2019-03-01T18:12:00</td>\n",
       "      <td>GANESH</td>\n",
       "    </tr>\n",
       "    <tr>\n",
       "      <th>3</th>\n",
       "      <td>Timber</td>\n",
       "      <td>2</td>\n",
       "      <td>2.0</td>\n",
       "      <td>5443.0</td>\n",
       "      <td>2019-03-01T14:35:00</td>\n",
       "      <td>20463.0</td>\n",
       "      <td>2019-03-01T13:08:00</td>\n",
       "      <td>Amalnathan</td>\n",
       "      <td>Budweiser Draught Mug (p)</td>\n",
       "      <td>1.0</td>\n",
       "      <td>Cash</td>\n",
       "      <td>2019-03-01T18:12:00</td>\n",
       "      <td>GANESH</td>\n",
       "    </tr>\n",
       "    <tr>\n",
       "      <th>4</th>\n",
       "      <td>Timber</td>\n",
       "      <td>2</td>\n",
       "      <td>2.0</td>\n",
       "      <td>5443.0</td>\n",
       "      <td>2019-03-01T14:35:00</td>\n",
       "      <td>20463.0</td>\n",
       "      <td>2019-03-01T13:08:00</td>\n",
       "      <td>Amalnathan</td>\n",
       "      <td>Guntoor Chicken</td>\n",
       "      <td>1.0</td>\n",
       "      <td>Cash</td>\n",
       "      <td>2019-03-01T18:12:00</td>\n",
       "      <td>GANESH</td>\n",
       "    </tr>\n",
       "  </tbody>\n",
       "</table>\n",
       "</div>"
      ],
      "text/plain": [
       "  Restaurant Tbl_  Pax  BillNo    BillDate_and_Time KotOrderNo  \\\n",
       "0     Timber   B1  1.0  5442.0  2019-03-01T11:48:00    20462.0   \n",
       "1     Timber   B1  1.0  5442.0  2019-03-01T11:48:00    20462.0   \n",
       "2     Timber    2  2.0  5443.0  2019-03-01T14:35:00    20463.0   \n",
       "3     Timber    2  2.0  5443.0  2019-03-01T14:35:00    20463.0   \n",
       "4     Timber    2  2.0  5443.0  2019-03-01T14:35:00    20463.0   \n",
       "\n",
       "   KOTOrderDateAndTime     Steward                   ItemName  Qty PayMode  \\\n",
       "0  2019-03-01T11:40:00  Amalnathan                 ROYAL STAG  3.0    Cash   \n",
       "1  2019-03-01T11:40:00  Amalnathan                       Soda  1.0    Cash   \n",
       "2  2019-03-01T13:08:00  Amalnathan  Budweiser Draught Mug (p)  2.0    Cash   \n",
       "3  2019-03-01T13:08:00  Amalnathan  Budweiser Draught Mug (p)  1.0    Cash   \n",
       "4  2019-03-01T13:08:00  Amalnathan            Guntoor Chicken  1.0    Cash   \n",
       "\n",
       "    SettlementDateTime      UserId  \n",
       "0  2019-03-01T19:27:00  AMALNATHAN  \n",
       "1  2019-03-01T19:27:00  AMALNATHAN  \n",
       "2  2019-03-01T18:12:00      GANESH  \n",
       "3  2019-03-01T18:12:00      GANESH  \n",
       "4  2019-03-01T18:12:00      GANESH  "
      ]
     },
     "execution_count": 133,
     "metadata": {},
     "output_type": "execute_result"
    }
   ],
   "source": [
    "hatch_kot_data.head()"
   ]
  },
  {
   "cell_type": "code",
   "execution_count": 134,
   "metadata": {},
   "outputs": [
    {
     "name": "stdout",
     "output_type": "stream",
     "text": [
      "<class 'pandas.core.frame.DataFrame'>\n",
      "RangeIndex: 134302 entries, 0 to 134301\n",
      "Data columns (total 13 columns):\n",
      "Restaurant             134302 non-null object\n",
      "Tbl_                   134302 non-null category\n",
      "Pax                    134302 non-null object\n",
      "BillNo                 134302 non-null object\n",
      "BillDate_and_Time      134302 non-null datetime64[ns]\n",
      "KotOrderNo             134302 non-null object\n",
      "KOTOrderDateAndTime    134302 non-null datetime64[ns]\n",
      "Steward                134302 non-null object\n",
      "ItemName               134302 non-null object\n",
      "Qty                    134302 non-null float64\n",
      "PayMode                134297 non-null category\n",
      "SettlementDateTime     134302 non-null object\n",
      "UserId                 134297 non-null object\n",
      "dtypes: category(2), datetime64[ns](2), float64(1), object(8)\n",
      "memory usage: 11.5+ MB\n"
     ]
    }
   ],
   "source": [
    "hatch_kot_data.BillDate_and_Time = pd.to_datetime(hatch_kot_data.BillDate_and_Time)\n",
    "hatch_kot_data.KOTOrderDateAndTime = pd.to_datetime(hatch_kot_data.KOTOrderDateAndTime)\n",
    "hatch_kot_data.info()"
   ]
  },
  {
   "cell_type": "code",
   "execution_count": 135,
   "metadata": {},
   "outputs": [],
   "source": [
    "import sqlite3"
   ]
  },
  {
   "cell_type": "code",
   "execution_count": 136,
   "metadata": {},
   "outputs": [],
   "source": [
    "conn = sqlite3.connect('hatch.db')"
   ]
  },
  {
   "cell_type": "code",
   "execution_count": 137,
   "metadata": {},
   "outputs": [],
   "source": [
    "# hatch_bill_data.to_sql('hatch_bill_data',conn,if_exists='replace', index=False)\n",
    "hatch_kot_data.to_sql('hatch_kot_data',conn,if_exists='append', index=False)"
   ]
  },
  {
   "cell_type": "code",
   "execution_count": 138,
   "metadata": {},
   "outputs": [],
   "source": [
    "conn.close()"
   ]
  },
  {
   "cell_type": "code",
   "execution_count": 47,
   "metadata": {},
   "outputs": [],
   "source": [
    "items = pd.read_excel('Item Codes.xlsx')"
   ]
  },
  {
   "cell_type": "code",
   "execution_count": 26,
   "metadata": {},
   "outputs": [
    {
     "name": "stdout",
     "output_type": "stream",
     "text": [
      "<class 'pandas.core.frame.DataFrame'>\n",
      "RangeIndex: 410 entries, 0 to 409\n",
      "Data columns (total 5 columns):\n",
      "Classification    410 non-null object\n",
      "MenuGroup         410 non-null object\n",
      "ItemCode          410 non-null int64\n",
      "ItemName          410 non-null object\n",
      "Kitchen           0 non-null float64\n",
      "dtypes: float64(1), int64(1), object(3)\n",
      "memory usage: 16.1+ KB\n"
     ]
    }
   ],
   "source": [
    "items.info()"
   ]
  },
  {
   "cell_type": "code",
   "execution_count": 27,
   "metadata": {},
   "outputs": [
    {
     "data": {
      "text/html": [
       "<div>\n",
       "<style scoped>\n",
       "    .dataframe tbody tr th:only-of-type {\n",
       "        vertical-align: middle;\n",
       "    }\n",
       "\n",
       "    .dataframe tbody tr th {\n",
       "        vertical-align: top;\n",
       "    }\n",
       "\n",
       "    .dataframe thead th {\n",
       "        text-align: right;\n",
       "    }\n",
       "</style>\n",
       "<table border=\"1\" class=\"dataframe\">\n",
       "  <thead>\n",
       "    <tr style=\"text-align: right;\">\n",
       "      <th></th>\n",
       "      <th>Classification</th>\n",
       "      <th>MenuGroup</th>\n",
       "      <th>ItemCode</th>\n",
       "      <th>ItemName</th>\n",
       "    </tr>\n",
       "  </thead>\n",
       "  <tbody>\n",
       "    <tr>\n",
       "      <th>0</th>\n",
       "      <td>Food</td>\n",
       "      <td>Salads</td>\n",
       "      <td>1</td>\n",
       "      <td>GREEN SALAD STICKS</td>\n",
       "    </tr>\n",
       "    <tr>\n",
       "      <th>1</th>\n",
       "      <td>Food</td>\n",
       "      <td>Salads</td>\n",
       "      <td>2</td>\n",
       "      <td>Mixed Bean Usli</td>\n",
       "    </tr>\n",
       "    <tr>\n",
       "      <th>2</th>\n",
       "      <td>Food</td>\n",
       "      <td>Salads</td>\n",
       "      <td>3</td>\n",
       "      <td>Koshambari Salad</td>\n",
       "    </tr>\n",
       "    <tr>\n",
       "      <th>3</th>\n",
       "      <td>Food</td>\n",
       "      <td>Salads</td>\n",
       "      <td>5</td>\n",
       "      <td>Watermelon And Feta Salad</td>\n",
       "    </tr>\n",
       "    <tr>\n",
       "      <th>4</th>\n",
       "      <td>Food</td>\n",
       "      <td>Salads</td>\n",
       "      <td>6</td>\n",
       "      <td>Caesar Salad</td>\n",
       "    </tr>\n",
       "  </tbody>\n",
       "</table>\n",
       "</div>"
      ],
      "text/plain": [
       "  Classification MenuGroup  ItemCode                   ItemName\n",
       "0           Food    Salads         1         GREEN SALAD STICKS\n",
       "1           Food    Salads         2            Mixed Bean Usli\n",
       "2           Food    Salads         3           Koshambari Salad\n",
       "3           Food    Salads         5  Watermelon And Feta Salad\n",
       "4           Food    Salads         6               Caesar Salad"
      ]
     },
     "execution_count": 27,
     "metadata": {},
     "output_type": "execute_result"
    }
   ],
   "source": [
    "items.drop(columns='Kitchen', inplace=True)\n",
    "items.head()"
   ]
  },
  {
   "cell_type": "code",
   "execution_count": 28,
   "metadata": {},
   "outputs": [],
   "source": [
    "conn = sqlite3.connect('hatch.db')\n",
    "items.to_sql('items_table',conn,if_exists='replace', index=False)\n",
    "conn.close()"
   ]
  },
  {
   "cell_type": "code",
   "execution_count": null,
   "metadata": {},
   "outputs": [],
   "source": []
  },
  {
   "cell_type": "code",
   "execution_count": null,
   "metadata": {},
   "outputs": [],
   "source": []
  }
 ],
 "metadata": {
  "kernelspec": {
   "display_name": "Python 3",
   "language": "python",
   "name": "python3"
  },
  "language_info": {
   "codemirror_mode": {
    "name": "ipython",
    "version": 3
   },
   "file_extension": ".py",
   "mimetype": "text/x-python",
   "name": "python",
   "nbconvert_exporter": "python",
   "pygments_lexer": "ipython3",
   "version": "3.6.4"
  }
 },
 "nbformat": 4,
 "nbformat_minor": 2
}
