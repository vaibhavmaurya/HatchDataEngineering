{
 "cells": [
  {
   "cell_type": "code",
   "execution_count": 1,
   "metadata": {},
   "outputs": [],
   "source": [
    "import xlrd\n",
    "from datetime import datetime\n",
    "from dateutil import parser\n",
    "from string import Template\n",
    "import os\n",
    "\n",
    "sFile_name = \"1st April \""
   ]
  },
  {
   "cell_type": "code",
   "execution_count": 2,
   "metadata": {},
   "outputs": [],
   "source": [
    "workbook = xlrd.open_workbook('data/order_data/1st April .xlsx')"
   ]
  },
  {
   "cell_type": "code",
   "execution_count": 3,
   "metadata": {},
   "outputs": [],
   "source": [
    "sheet = workbook.sheet_by_index(0)"
   ]
  },
  {
   "cell_type": "code",
   "execution_count": null,
   "metadata": {},
   "outputs": [],
   "source": []
  },
  {
   "cell_type": "code",
   "execution_count": 4,
   "metadata": {},
   "outputs": [],
   "source": [
    "# Extract date and time from \n",
    "c = datetime.strptime(sheet.cell_value(7,1), '%d-%b-%Y  %H.%M')"
   ]
  },
  {
   "cell_type": "code",
   "execution_count": 5,
   "metadata": {},
   "outputs": [],
   "source": [
    "from string import Template "
   ]
  },
  {
   "cell_type": "code",
   "execution_count": 6,
   "metadata": {},
   "outputs": [
    {
     "data": {
      "text/plain": [
       "1"
      ]
     },
     "execution_count": 6,
     "metadata": {},
     "output_type": "execute_result"
    }
   ],
   "source": [
    "int(Template(['$i',0][0]).substitute({'i':1}))"
   ]
  },
  {
   "cell_type": "code",
   "execution_count": 7,
   "metadata": {},
   "outputs": [
    {
     "name": "stdout",
     "output_type": "stream",
     "text": [
      "UserID\n"
     ]
    }
   ],
   "source": [
    "try:\n",
    "    print(sheet.cell_value(4,26))\n",
    "except IndexError as err:\n",
    "    print(\"There is a index error: {}\".format(err))"
   ]
  },
  {
   "cell_type": "code",
   "execution_count": null,
   "metadata": {},
   "outputs": [],
   "source": []
  },
  {
   "cell_type": "code",
   "execution_count": null,
   "metadata": {},
   "outputs": [],
   "source": []
  },
  {
   "cell_type": "code",
   "execution_count": 14,
   "metadata": {},
   "outputs": [],
   "source": [
    "# list_cols = {sheet.cell_value(4,i).replace(' ','_').replace('.','_').replace('%','').replace('#','').replace('&','and') : i  for i in range(19)} \n",
    "# # list_cols = [{\"Restaurant\":-1}] + list_cols\n",
    "# list_cols[\"UserID\"] = 26\n",
    "# list_cols[\"PayMode\"] = 24\n",
    "# list_cols[\"Tips\"] = 25\n",
    "# # list_cols[\"Restaurant\"] = -1\n",
    "# list_cols\n"
   ]
  },
  {
   "cell_type": "code",
   "execution_count": 11,
   "metadata": {},
   "outputs": [],
   "source": [
    "# list_cols.get('Tips')"
   ]
  },
  {
   "cell_type": "markdown",
   "metadata": {},
   "source": [
    "(0,0) : heading of excel\n",
    "(1,0) : Date\n",
    "(2,0) : Restaurant name\n",
    "(3,0) : Empty\n",
    "(4,0) : S.No\n",
    "\n",
    "\n",
    "Start from here j = 0, i = 4\n",
    "\n",
    "\n",
    "(i+1,0) : Restaurant Category  #start_data_reading\n",
    "(i+2,0) : Empty ----  ( Begining of data is here )\n",
    "\n",
    "-- Module to read data . #read_data (i)\n",
    "(i+3,0) : Data Starts from here j = i loop starts here while\n",
    "\n",
    "        j+=1\n",
    "\n",
    "(j,0) : is empty \n",
    "        (j+1,8) : Classification\n",
    "                If Not epmty continue reading data. #read_data i = j+1\n",
    "                If Empty check \n",
    "                       IF (i+1, 0)\n",
    "                               is Total Bill #start_data_reading\n",
    "                               \n",
    "                      \n",
    "        \n",
    "\n",
    "\n",
    "\n"
   ]
  },
  {
   "cell_type": "code",
   "execution_count": 12,
   "metadata": {},
   "outputs": [
    {
     "data": {
      "text/plain": [
       "411"
      ]
     },
     "execution_count": 12,
     "metadata": {},
     "output_type": "execute_result"
    }
   ],
   "source": [
    "sheet.nrows"
   ]
  },
  {
   "cell_type": "code",
   "execution_count": 14,
   "metadata": {},
   "outputs": [],
   "source": [
    "\n",
    "# oDict = {i:\"\" for i in list_cols.keys()}\n",
    "# oDict['Restaurant'] = \"\"\n",
    "# print(oDict)\n",
    "\n",
    "# sTemplate = \"$\"+\",$\".join(oDict.keys())\n",
    "# print(sTemplate)\n",
    "# t = Template(sTemplate)"
   ]
  },
  {
   "cell_type": "code",
   "execution_count": 15,
   "metadata": {},
   "outputs": [],
   "source": [
    "def get_template(list_cols):\n",
    "    oDict = {i:\"\" for i in list_cols.keys()}\n",
    "    oDict['Restaurant'] = \"\"\n",
    "\n",
    "    sTemplate = \"$\"+\",$\".join(oDict.keys())\n",
    "    t = Template(sTemplate)\n",
    "    return t\n",
    "\n",
    "def get_original_cols(sheet):\n",
    "    c = {}\n",
    "    h = \"@@\"\n",
    "    i = 0\n",
    "    while h and i < sheet.ncols:\n",
    "        h = sheet.cell_value(4,i).replace(' ','_').replace('.','_').replace('%','').replace('#','').replace('&','and')\n",
    "        c[h] = i\n",
    "        i+=1\n",
    "    return c\n",
    "\n",
    "def get_cols():\n",
    "    return {'S_No': 0,\n",
    "             'BillDate_and_Time': 0,\n",
    "             'BillNo': 0,\n",
    "             'Tbl_': 0,\n",
    "             'Pax': 0,\n",
    "             'KotNo': 0,\n",
    "             'KOTDate_and_Time': 0,\n",
    "             'Steward': 0,\n",
    "             'Classification': 0,\n",
    "             'MenuGroup': 0,\n",
    "             'ItemCode': 0,\n",
    "             'ItemName': 0,\n",
    "             'Rate': 0,\n",
    "             'Qty': 0,\n",
    "             'Amount': 0,\n",
    "             'Discount': 0,\n",
    "             'CGS_2_5': 0,\n",
    "             'SGS_2_5': 0,\n",
    "             'Total': 0,\n",
    "             'UserID': 0,\n",
    "             'PayMode': 0,\n",
    "             'Tips': 0}\n",
    "\n"
   ]
  },
  {
   "cell_type": "code",
   "execution_count": 16,
   "metadata": {},
   "outputs": [],
   "source": [
    "\n",
    "# Variables\n",
    "sRestaurant = \"\"\n",
    "iSerialNo = 0\n",
    "billdate_and_time = \"\"\n",
    "iBillNo=0\n",
    "sTable = \"\"\n",
    "iPax = 0\n",
    "iKotNo = 0\n",
    "sKot_date_and_time = \"\"\n",
    "sSteward = \"\"\n",
    "sUserdId = \"\"\n",
    "\n",
    "res_name_begin_data_row = 5\n",
    "\n",
    "# column indexes\n",
    "classification_col = 8\n",
    "last_col = 18\n",
    "payment_model_col = 24\n",
    "tips_col = 25\n",
    "user_id_col = 26\n",
    "\n",
    "# flags \n",
    "b_read_first_var = False\n",
    "b_excel_ends = False\n",
    "\n",
    "# Indices\n",
    "read_data_index = 0\n",
    "read_cursor = 0\n",
    "\n",
    "# list of fixed columns\n",
    "list_fixed_cols = [\"S_No\",\"BillDate_and_Time\",\"BillNo\",\"Tbl_\", \"Pax\", \"KotNo\", \"KOTDate_and_Time\", \"Steward\"]\n",
    "list_var_cols = [\"Classification\",\"MenuGroup\",\"ItemCode\",\"ItemName\",\"Rate\",\"Qty\",\"Amount\",\"Discount\",\"CGS_2_5\",\"SGS_2_5\", \"Total\",\"PayMode\",\"Tips\"]\n",
    "userid_col = \"UserID\"\n",
    "\n",
    "date_time_cols = [\"BillDate_and_Time\", \"KOTDate_and_Time\"]\n",
    "\n",
    "# fixed columns\n",
    "oFixedDict = {}\n",
    "aDataList = []\n",
    "\n",
    "def get_date_format(date_string):\n",
    "    if '/' in date_string:\n",
    "        return '%d/%m/%Y  %H.%M'\n",
    "    else:\n",
    "        return '%d-%b-%Y  %H.%M'\n",
    "\n",
    "\n",
    "def extractData(sheet, sRestaurant, read_data_index, aData, list_cols):\n",
    "    classification_col = list_cols[\"Classification\"]        \n",
    "    bFlag = False\n",
    "    if sheet.cell_value(4,2).strip() == 'Time':\n",
    "        bFlag = True\n",
    "    for x in list_fixed_cols:\n",
    "        g = sheet.cell_value(read_data_index,list_cols[x])\n",
    "        if x in date_time_cols:\n",
    "            if bFlag and x == \"BillDate_and_Time\":\n",
    "                g = g + \"  \" + sheet.cell_value(read_data_index,list_cols[x]+1)\n",
    "                oFixedDict[x] = datetime.strptime(g, get_date_format(g)).isoformat()\n",
    "            else:\n",
    "                oFixedDict[x] = datetime.strptime(g, get_date_format(g)).isoformat()\n",
    "        else:\n",
    "            oFixedDict[x] = g if type(g) == float else g.strip().replace(',','')\n",
    "    \n",
    "    while True:\n",
    "        if not sheet.cell_value(read_data_index,classification_col):\n",
    "            sUserdId = sheet.cell_value((read_data_index-1),list_cols[\"UserID\"]).strip()\n",
    "            \n",
    "            for x in range(len(aData)):\n",
    "                aData[x][\"UserID\"] = sUserdId\n",
    "            break;\n",
    "        oDict = {i:\"\" for i in list_cols.keys()}\n",
    "        oDict['Restaurant'] = sRestaurant\n",
    "        \n",
    "        for key, val in list_cols.items():\n",
    "            g = sheet.cell_value(read_data_index,val)\n",
    "            oDict[key] = g if type(g) == float else g.strip().replace(',','')\n",
    "        \n",
    "        oDict.update(oFixedDict)\n",
    "        aData.append(oDict)\n",
    "        read_data_index += 1\n",
    "    return aData, read_data_index"
   ]
  },
  {
   "cell_type": "code",
   "execution_count": 17,
   "metadata": {},
   "outputs": [],
   "source": [
    "\n",
    "def prepareCsvData(sheet, filename):\n",
    "    read_data_index = 5\n",
    "    aDataList = []\n",
    "    \n",
    "    m = get_original_cols(sheet)\n",
    "    list_cols = get_cols()\n",
    "    for k,v in m.items():\n",
    "        if list_cols.get(k) == 0:\n",
    "            list_cols[k] = v\n",
    "    \n",
    "    list_cols[\"BillDate_and_Time\"] = 1\n",
    "    \n",
    "    classification_col = list_cols[\"Classification\"]\n",
    "    \n",
    "    t = get_template(list_cols)\n",
    "\n",
    "    while read_data_index < sheet.nrows:\n",
    "        if not sheet.cell_value(read_data_index,classification_col):\n",
    "            if \"restaurant\" in sheet.cell_value(read_data_index,0).lower():\n",
    "                sRestaurant = sheet.cell_value(read_data_index,0).split(\":\")[1].strip()\n",
    "            read_data_index += 1\n",
    "            continue\n",
    "\n",
    "        try:\n",
    "            if sheet.cell_value(read_data_index,classification_col):\n",
    "                aDataList, read_data_index = extractData(sheet, sRestaurant, read_data_index, aDataList, list_cols)\n",
    "        except IndexError as e:\n",
    "            print(f\"File is completed at {read_data_index} and classification col {classification_col} sheet rows : {sheet.nrows}\")\n",
    "\n",
    "        \n",
    "\n",
    "\n",
    "    csv_list = [t.substitute(x) for x in aDataList]\n",
    "    print(\"Completed file {} with data written >>> {}\".format(filename, len(csv_list)))\n",
    "    with open('./clean_data/{}.csv'.format('full_csv'), mode='a+') as f:\n",
    "        for x in csv_list:\n",
    "            f.write(x)\n",
    "            f.write('\\n')"
   ]
  },
  {
   "cell_type": "code",
   "execution_count": null,
   "metadata": {},
   "outputs": [],
   "source": []
  },
  {
   "cell_type": "code",
   "execution_count": 48,
   "metadata": {},
   "outputs": [
    {
     "name": "stdout",
     "output_type": "stream",
     "text": [
      "full_csv Removed!\n",
      "-----WORKING ON ./data/23RD JAN 2019.xlsx------\n",
      "Completed file ./data/23RD JAN 2019.xlsx with data written >>> 440\n"
     ]
    }
   ],
   "source": [
    "import traceback\n",
    "if os.path.exists(\"./clean_data/full_csv.csv\"):\n",
    "    os.remove(\"./clean_data/full_csv.csv\")\n",
    "    print(\"full_csv Removed!\")\n",
    "    \n",
    "with open('./clean_data/{}.csv'.format('full_csv'), mode='w+') as f:\n",
    "    f.write(','.join(list_cols.keys()) + ',Restaurant')\n",
    "    f.write('\\n')\n",
    "    \n",
    "try:\n",
    "    x = './data/23RD JAN 2019.xlsx'\n",
    "    workbook = xlrd.open_workbook(x)\n",
    "    sheet = workbook.sheet_by_index(0)\n",
    "    print(f\"-----WORKING ON {x}------\")\n",
    "    prepareCsvData(sheet, x)\n",
    "except Exception as e:\n",
    "#         print('file {} has following issues : \\n {}'.format(x,traceback.format_exc()))\n",
    "    print('file {} has following issues : \\n {}'.format(x,e))"
   ]
  },
  {
   "cell_type": "code",
   "execution_count": 34,
   "metadata": {},
   "outputs": [
    {
     "data": {
      "text/plain": [
       "True"
      ]
     },
     "execution_count": 34,
     "metadata": {},
     "output_type": "execute_result"
    }
   ],
   "source": [
    "'/' in '23/01/2019  14.26'"
   ]
  },
  {
   "cell_type": "code",
   "execution_count": 39,
   "metadata": {},
   "outputs": [
    {
     "data": {
      "text/plain": [
       "'2019-01-23T14:26:00'"
      ]
     },
     "execution_count": 39,
     "metadata": {},
     "output_type": "execute_result"
    }
   ],
   "source": [
    "datetime.strptime('23/01/2019  14.26', '%d/%m/%Y  %H.%M').isoformat()"
   ]
  },
  {
   "cell_type": "code",
   "execution_count": null,
   "metadata": {},
   "outputs": [],
   "source": []
  },
  {
   "cell_type": "code",
   "execution_count": null,
   "metadata": {},
   "outputs": [],
   "source": []
  },
  {
   "cell_type": "code",
   "execution_count": null,
   "metadata": {},
   "outputs": [],
   "source": []
  },
  {
   "cell_type": "code",
   "execution_count": 49,
   "metadata": {},
   "outputs": [],
   "source": [
    "import os\n",
    "import glob2"
   ]
  },
  {
   "cell_type": "code",
   "execution_count": 50,
   "metadata": {},
   "outputs": [],
   "source": [
    "list_of_files = glob2.glob(\"./data/order_data/*.xlsx\")"
   ]
  },
  {
   "cell_type": "code",
   "execution_count": null,
   "metadata": {},
   "outputs": [],
   "source": []
  },
  {
   "cell_type": "code",
   "execution_count": 51,
   "metadata": {},
   "outputs": [],
   "source": [
    "# list_of_files = [os.path.join('april2019hatchbillingdata',x) for x in os.listdir('april2019hatchbillingdata')]"
   ]
  },
  {
   "cell_type": "code",
   "execution_count": 19,
   "metadata": {},
   "outputs": [],
   "source": [
    "# import traceback\n",
    "# if os.path.exists(\"./clean_data/full_csv.csv\"):\n",
    "#     os.remove(\"./clean_data/full_csv.csv\")\n",
    "#     print(\"full_csv Removed!\")\n",
    "    \n",
    "# with open('./clean_data/{}.csv'.format('full_csv'), mode='w+') as f:\n",
    "#     f.write(','.join(list_cols.keys()) + ',Restaurant')\n",
    "#     f.write('\\n')\n",
    "    \n",
    "# for x in list_of_files:\n",
    "#     try:\n",
    "#         workbook = xlrd.open_workbook(x)\n",
    "#         sheet = workbook.sheet_by_index(0)\n",
    "#         print(f\"-----WORKING ON {x}------\")\n",
    "#         prepareCsvData(sheet, x)\n",
    "#     except Exception as e:\n",
    "# #         print('file {} has following issues : \\n {}'.format(x,traceback.format_exc()))\n",
    "#         print('file {} has following issues : \\n {}'.format(x,e))"
   ]
  },
  {
   "cell_type": "code",
   "execution_count": null,
   "metadata": {},
   "outputs": [],
   "source": []
  },
  {
   "cell_type": "code",
   "execution_count": null,
   "metadata": {},
   "outputs": [],
   "source": []
  },
  {
   "cell_type": "code",
   "execution_count": null,
   "metadata": {},
   "outputs": [],
   "source": []
  },
  {
   "cell_type": "code",
   "execution_count": null,
   "metadata": {},
   "outputs": [],
   "source": []
  },
  {
   "cell_type": "code",
   "execution_count": 18,
   "metadata": {},
   "outputs": [],
   "source": [
    "list_cols = {'Restaurant': -2,\n",
    " 'Tbl_': 0,\n",
    " 'Pax': 1,\n",
    " 'BillNo': 2,\n",
    " 'BillDate_and_Time': 3,\n",
    " 'KotOrderNo': 4,\n",
    " 'KOTOrderDateAndTime': 5,\n",
    " 'Steward': 6,\n",
    " 'ItemName': 7,\n",
    " 'Qty': 8,\n",
    " 'PayMode': 10,\n",
    " 'SettlementDateTime': 11,\n",
    " 'UserId':14}\n",
    "\n",
    "fixed_cols = ['Pax','BillNo','BillDate_and_Time','PayMode','SettlementDateTime','UserId']"
   ]
  },
  {
   "cell_type": "code",
   "execution_count": 59,
   "metadata": {},
   "outputs": [],
   "source": [
    "# list of fixed columns\n",
    "list_fixed_cols = ['Pax','BillNo','BillDate_and_Time','PayMode','SettlementDateTime','UserId']\n",
    "list_var_cols = ['Tbl_',\n",
    "                 'KotOrderNo',\n",
    "                 'KOTOrderDateAndTime',\n",
    "                 'Steward',\n",
    "                 'ItemName',\n",
    "                 'Qty']\n",
    "\n",
    "# fixed columns\n",
    "oFixedDict = {}\n",
    "aDataList = []\n",
    "date_time_cols = [\"BillDate_and_Time\",\"SettlementDateTime\"]\n",
    "\n",
    "# datetime.strptime(sheet.cell_value(7,1), '%d-%b-%Y  %H.%M')\n",
    "\n",
    "classification_col = 5\n",
    "\n",
    "\n",
    "\n",
    "def extractData(sRestaurant, read_data_index, aData):\n",
    "    for x in list_fixed_cols:\n",
    "        g = sheet.cell_value(read_data_index,list_cols[x])\n",
    "        if x in date_time_cols:\n",
    "            oFixedDict[x] = datetime.strptime(g, '%d-%b-%Y  %H.%M').isoformat()\n",
    "        else:\n",
    "            oFixedDict[x] = g if type(g) == float else g.strip()\n",
    "\n",
    "    \n",
    "    while True:\n",
    "        if not sheet.cell_value(read_data_index,classification_col):\n",
    "            break;\n",
    "        oDict = {i:\"\" for i in list_var_cols}\n",
    "        oDict['Restaurant'] = sRestaurant\n",
    "        \n",
    "        for val in list_var_cols:\n",
    "            g = sheet.cell_value(read_data_index,list_cols[val])\n",
    "            if val == \"KOTOrderDateAndTime\":\n",
    "               oDict[val] = datetime.strptime(g, '%d-%b-%Y  %H.%M').isoformat()\n",
    "            else:\n",
    "                oDict[val] = g if type(g) == float else g.strip().replace(',','')\n",
    "            if g == '219':\n",
    "                print('something wrong with 2190 {}'.format(oDict[val]))\n",
    "        \n",
    "        oDict.update(oFixedDict)\n",
    "        aData.append(oDict)\n",
    "        read_data_index += 1\n",
    "    return aData, read_data_index"
   ]
  },
  {
   "cell_type": "code",
   "execution_count": 60,
   "metadata": {},
   "outputs": [],
   "source": [
    "def prepareCsvData(sheet, filename):\n",
    "    read_data_index = 6\n",
    "    kill_counter = 0\n",
    "    aDataList = []\n",
    "    b_excel_ends = False\n",
    "    classification_col = 5\n",
    "    sRestaurant = sheet.cell_value(2,7).split(':')[1].strip()\n",
    "    sExcel_end_Criteria = 'total'\n",
    "    t = Template(\"$\"+\",$\".join(list_cols.keys()))\n",
    "\n",
    "    while not read_data_index < sheet.nrows:\n",
    "        if not sheet.cell_value(read_data_index,classification_col):\n",
    "            if sheet.cell_value(read_data_index+1,classification_col):\n",
    "                read_data_index += 1\n",
    "\n",
    "            elif sExcel_end_Criteria in sheet.cell_value(read_data_index,0).lower():\n",
    "                b_excel_ends = True\n",
    "                break\n",
    "\n",
    "        if sheet.cell_value(read_data_index,classification_col):\n",
    "            aDataList, read_data_index = extractData(sRestaurant, read_data_index, aDataList)\n",
    "\n",
    "\n",
    "    csv_list = [t.substitute(x) for x in aDataList]\n",
    "    print(\"Completed file {} with data written >>> {}\".format(filename, len(csv_list)))\n",
    "#     return csv_list\n",
    "    with open('./clean_data/{}.csv'.format('full_csv_kot'), mode='a+') as f:\n",
    "#         f.write(','.join(list_cols.keys()) + ',Restaurant')\n",
    "#         f.write('\\n')\n",
    "        for x in csv_list:\n",
    "            f.write(x)\n",
    "            f.write('\\n')"
   ]
  },
  {
   "cell_type": "code",
   "execution_count": 61,
   "metadata": {},
   "outputs": [],
   "source": [
    "list_of_files = glob2.glob(\"./data/kot_data/*.xlsx\")"
   ]
  },
  {
   "cell_type": "code",
   "execution_count": 62,
   "metadata": {},
   "outputs": [
    {
     "data": {
      "text/plain": [
       "['./data/kot_data/April 2019 Time spent kot Traking TIMBER .xlsx',\n",
       " './data/kot_data/MAY 2019 Time spent kot traking SWIGGY.xlsx',\n",
       " './data/kot_data/JAN 2019 ITEM SPENT KOT TRAKING SWIGGY  .xlsx',\n",
       " './data/kot_data/JULY 2019 ITEM SPENT KOT TRAKING SWIGGY.xlsx',\n",
       " './data/kot_data/JULY 2019 ITEM SPENT KOT TRAKING BAKERY .xlsx',\n",
       " './data/kot_data/JULY 2019 ITEM SPENT KOT TRAKING TIMBER .xlsx',\n",
       " './data/kot_data/JAN 2019 ITEM SPENT KOT TRAKING THE ESTATE  .xlsx',\n",
       " './data/kot_data/MAY 2019 Time spent kot traking HD.xlsx',\n",
       " './data/kot_data/JAN 2019 ITEM SPENT KOT TRAKING TIMBER  .xlsx',\n",
       " './data/kot_data/JULY 2019 ITEM SPENT KOT TRAKING HD.xlsx',\n",
       " './data/kot_data/JUNE 2019 TIME SPEND KOT TRAKING ZOMATO .xlsx',\n",
       " './data/kot_data/April 2019 Time spent kot Traking ZOMATO .xlsx',\n",
       " './data/kot_data/JULY 2019 ITEM SPENT KOT TRAKING THE TRESS .xlsx',\n",
       " './data/kot_data/MAY 2019 Time spent kot traking THE ESTATE .xlsx',\n",
       " './data/kot_data/JULY 2019 ITEM SPENT KOT TRAKING SHISH .xlsx',\n",
       " './data/kot_data/JUNE 2019 TIME SPEND KOT TRAKING HD.xlsx',\n",
       " './data/kot_data/JULY 2019 ITEM SPENT KOT TRAKING ZOMATO .xlsx',\n",
       " './data/kot_data/April 2019 Time spent kot Traking SHISH (TERRES) .xlsx',\n",
       " './data/kot_data/MAY 2019 Time spent kot traking TIMBER .xlsx',\n",
       " './data/kot_data/JAN 2019 ITEM SPENT KOT TRAKING ZOMATO  .xlsx',\n",
       " './data/kot_data/JUNE 2019 TIME SPEND KOT TRAKING THE ESTATE  .xlsx',\n",
       " './data/kot_data/MAY 2019 Time spent kot traking SHISH.xlsx',\n",
       " './data/kot_data/JAN 2019 ITEM SPENT KOT TRAKING SHISH.xlsx',\n",
       " './data/kot_data/April 2019 Time spent kot Traking ESTATE .xlsx',\n",
       " './data/kot_data/JUNE 2019 TIME SPEND KOT TRAKING SWIGGY .xlsx',\n",
       " './data/kot_data/April 2019 Time spent kot Traking HD.xlsx',\n",
       " './data/kot_data/JAN 2019 ITEM SPENT KOT TRAKING HD  .xlsx',\n",
       " './data/kot_data/April 2019 Time spent kot Traking SWiGGY .xlsx',\n",
       " './data/kot_data/MAY 2019 Time spent kot traking ZOMATO .xlsx',\n",
       " './data/kot_data/JUNE 2019 TIME SPEND KOT TRAKING THE BAKERY .xlsx',\n",
       " './data/kot_data/JUNE 2019 TIME SPEND KOT TRAKING TERRES .xlsx',\n",
       " './data/kot_data/JUNE 2019 TIME SPEND KOT TRAKING THE TIMBER .xlsx']"
      ]
     },
     "execution_count": 62,
     "metadata": {},
     "output_type": "execute_result"
    }
   ],
   "source": [
    "list_of_files"
   ]
  },
  {
   "cell_type": "code",
   "execution_count": null,
   "metadata": {},
   "outputs": [
    {
     "name": "stdout",
     "output_type": "stream",
     "text": [
      "Completed file ./data/kot_data/April 2019 Time spent kot Traking TIMBER .xlsx with data written >>> 3203\n",
      "Completed file ./data/kot_data/MAY 2019 Time spent kot traking SWIGGY.xlsx with data written >>> 253\n",
      "Completed file ./data/kot_data/JAN 2019 ITEM SPENT KOT TRAKING SWIGGY  .xlsx with data written >>> 262\n",
      "Completed file ./data/kot_data/JULY 2019 ITEM SPENT KOT TRAKING SWIGGY.xlsx with data written >>> 287\n",
      "Completed file ./data/kot_data/JULY 2019 ITEM SPENT KOT TRAKING BAKERY .xlsx with data written >>> 739\n",
      "Completed file ./data/kot_data/JULY 2019 ITEM SPENT KOT TRAKING TIMBER .xlsx with data written >>> 3065\n",
      "Completed file ./data/kot_data/JAN 2019 ITEM SPENT KOT TRAKING THE ESTATE  .xlsx with data written >>> 3008\n",
      "Completed file ./data/kot_data/MAY 2019 Time spent kot traking HD.xlsx with data written >>> 90\n",
      "Completed file ./data/kot_data/JAN 2019 ITEM SPENT KOT TRAKING TIMBER  .xlsx with data written >>> 3161\n",
      "Completed file ./data/kot_data/JULY 2019 ITEM SPENT KOT TRAKING HD.xlsx with data written >>> 160\n"
     ]
    }
   ],
   "source": [
    "if os.path.exists(\"./clean_data/full_csv_kot.csv\"):\n",
    "    os.remove(\"./clean_data/full_csv_kot.csv\")\n",
    "    print(\"full_csv_kot Removed!\")\n",
    "    \n",
    "with open('./clean_data/{}.csv'.format('full_csv_kot'), mode='w+') as f:\n",
    "    f.write(','.join(list_cols.keys()))\n",
    "    f.write('\\n')\n",
    "    \n",
    "for x in list_of_files:\n",
    "    try:\n",
    "        workbook = xlrd.open_workbook(x)\n",
    "        sheet = workbook.sheet_by_index(0)\n",
    "        prepareCsvData(sheet, x)\n",
    "    except Exception as e:\n",
    "        print('file {} has following issues : \\n {}'.format(x,e))"
   ]
  },
  {
   "cell_type": "code",
   "execution_count": null,
   "metadata": {},
   "outputs": [],
   "source": [
    "'2190'.strip()"
   ]
  },
  {
   "cell_type": "code",
   "execution_count": null,
   "metadata": {},
   "outputs": [],
   "source": []
  }
 ],
 "metadata": {
  "kernelspec": {
   "display_name": "Python 3",
   "language": "python",
   "name": "python3"
  },
  "language_info": {
   "codemirror_mode": {
    "name": "ipython",
    "version": 3
   },
   "file_extension": ".py",
   "mimetype": "text/x-python",
   "name": "python",
   "nbconvert_exporter": "python",
   "pygments_lexer": "ipython3",
   "version": "3.6.4"
  }
 },
 "nbformat": 4,
 "nbformat_minor": 2
}
